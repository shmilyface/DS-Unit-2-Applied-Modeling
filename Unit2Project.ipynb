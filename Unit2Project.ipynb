{
  "nbformat": 4,
  "nbformat_minor": 0,
  "metadata": {
    "colab": {
      "name": "Unit2Project",
      "version": "0.3.2",
      "provenance": [],
      "collapsed_sections": [],
      "include_colab_link": true
    },
    "kernelspec": {
      "name": "python3",
      "display_name": "Python 3"
    }
  },
  "cells": [
    {
      "cell_type": "markdown",
      "metadata": {
        "id": "view-in-github",
        "colab_type": "text"
      },
      "source": [
        "<a href=\"https://colab.research.google.com/github/shmilyface/DS-Unit-2-Applied-Modeling/blob/master/Unit2Project.ipynb\" target=\"_parent\"><img src=\"https://colab.research.google.com/assets/colab-badge.svg\" alt=\"Open In Colab\"/></a>"
      ]
    },
    {
      "cell_type": "code",
      "metadata": {
        "id": "9INHpwZxIz0H",
        "colab_type": "code",
        "colab": {}
      },
      "source": [
        "#dataset\n",
        "#copyright/references\n",
        "#previous blog post\n",
        "#Lambda School DSPT1 Student\n",
        "#August 2019"
      ],
      "execution_count": 0,
      "outputs": []
    },
    {
      "cell_type": "markdown",
      "metadata": {
        "id": "aHWbRSAdFajT",
        "colab_type": "text"
      },
      "source": [
        "#Autism Diagnostics: Is there a Gender Bias?\n",
        "\n",
        "####Based on my previous project where I studied the answers and resulting diagnostics of men and women who took a screening on a phone app, my goal is to: \n",
        "\n",
        "*   Predict a Diagnosis Based on Answers to Screening\n",
        "*   Use the results to create a visualization showing how accuracy scores using different verification models lined up with the actual diagnosis, as well as gender, in order to better visualize how predictable men and women were. My goal is to verify that a model aiming for accuracy would have a similar accuracy for both men and women.\n",
        "*    Share my findings and my next steps in analyzing the data\n"
      ]
    },
    {
      "cell_type": "code",
      "metadata": {
        "id": "xMMB8ATR9toE",
        "colab_type": "code",
        "outputId": "16871ae7-19cb-4233-da27-2bb551416927",
        "colab": {
          "base_uri": "https://localhost:8080/",
          "height": 68
        }
      },
      "source": [
        "#installs\n",
        "\n",
        "!pip install plotly --upgrade"
      ],
      "execution_count": 0,
      "outputs": [
        {
          "output_type": "stream",
          "text": [
            "Requirement already up-to-date: plotly in /usr/local/lib/python3.6/dist-packages (4.1.0)\n",
            "Requirement already satisfied, skipping upgrade: six in /usr/local/lib/python3.6/dist-packages (from plotly) (1.12.0)\n",
            "Requirement already satisfied, skipping upgrade: retrying>=1.3.3 in /usr/local/lib/python3.6/dist-packages (from plotly) (1.3.3)\n"
          ],
          "name": "stdout"
        }
      ]
    },
    {
      "cell_type": "code",
      "metadata": {
        "id": "fTJcimzYaNeN",
        "colab_type": "code",
        "colab": {}
      },
      "source": [
        "#imports \n",
        "\n",
        "import pandas as pd\n",
        "import xgboost as xgb\n",
        "from sklearn.model_selection import train_test_split, KFold, cross_val_score\n",
        "from sklearn.metrics import accuracy_score\n",
        "from sklearn.pipeline import Pipeline\n",
        "import plotly.express as px\n",
        "from scipy import stats"
      ],
      "execution_count": 0,
      "outputs": []
    },
    {
      "cell_type": "code",
      "metadata": {
        "id": "mfPDc2OpaXZM",
        "colab_type": "code",
        "colab": {}
      },
      "source": [
        "#data\n",
        "\n",
        "\n",
        "asd_data = 'https://raw.githubusercontent.com/shmilyface/DS-Unit-1-Sprint-5-Data-Storytelling-Blog-Post/master/csv_result-Autism-Adult-Data.csv'\n",
        "columns = ['patient', 'sounds', 'big_picture', 'multitask', 'interrupt', \n",
        "           'social_comp', 'bored', 'reading_int', 'hyperfocus', 'read_faces',\n",
        "           'intentions', 'age', 'gender', 'ethnicity', 'jaundice', \n",
        "           'family_autism', 'country', 'used_app', 'result', 'age_desc', \n",
        "           'relation', 'class/asd'\n",
        "          ]"
      ],
      "execution_count": 0,
      "outputs": []
    },
    {
      "cell_type": "markdown",
      "metadata": {
        "id": "aqeRJ-wbFmAL",
        "colab_type": "text"
      },
      "source": [
        "#Cleaning Data\n",
        "\n",
        "> The dataset was developed utilizing input received on a research application developed by [Name]. For this analysis, I'm only interested in the questions from the survey and the age/gender of the individual. My next goal is to analyze all parts of the data to better understand the relationships between different features, in a similar fashion, or with improved methods as I learn more about the world of Data Science and Machine Learning.  \n",
        "\n"
      ]
    },
    {
      "cell_type": "code",
      "metadata": {
        "id": "nwr_5YeqFi5W",
        "colab_type": "code",
        "colab": {}
      },
      "source": [
        "\n",
        "dropcols = ['jaundice', 'used_app', 'age_desc', 'relation', 'ethnicity', 'result']\n",
        "\n",
        "df = pd.read_csv(asd_data, header=0, names=columns)\n",
        "df.drop(dropcols, axis=1, inplace=True)\n",
        "df = df[df.age != '?'] # 2\n",
        "df.age = df.age.astype(int)\n",
        "df['gender'] = df['gender'].map({ 'm':0, 'f':1 })\n",
        "df['class/asd'] = df['class/asd'].map({ 'NO':0, 'YES':1 })"
      ],
      "execution_count": 0,
      "outputs": []
    },
    {
      "cell_type": "markdown",
      "metadata": {
        "id": "Z3ai9ESxFrza",
        "colab_type": "text"
      },
      "source": [
        "From the code snippet above: \n",
        "\n",
        "*   Dropped Columns\n",
        "*   `df = df[df.age != '?']`\n",
        "*  Changed datatype for age to int\n",
        "*  Changed `gender` and `class/asd` to binary. \n",
        "\n"
      ]
    },
    {
      "cell_type": "code",
      "metadata": {
        "id": "SNC2wlk4LIQP",
        "colab_type": "code",
        "outputId": "9def0dd5-530b-419a-dd60-224111ba2a80",
        "colab": {
          "base_uri": "https://localhost:8080/",
          "height": 258
        }
      },
      "source": [
        "#post-cleaning snapshot\n",
        "df.head()"
      ],
      "execution_count": 0,
      "outputs": [
        {
          "output_type": "execute_result",
          "data": {
            "text/html": [
              "<div>\n",
              "<style scoped>\n",
              "    .dataframe tbody tr th:only-of-type {\n",
              "        vertical-align: middle;\n",
              "    }\n",
              "\n",
              "    .dataframe tbody tr th {\n",
              "        vertical-align: top;\n",
              "    }\n",
              "\n",
              "    .dataframe thead th {\n",
              "        text-align: right;\n",
              "    }\n",
              "</style>\n",
              "<table border=\"1\" class=\"dataframe\">\n",
              "  <thead>\n",
              "    <tr style=\"text-align: right;\">\n",
              "      <th></th>\n",
              "      <th>patient</th>\n",
              "      <th>sounds</th>\n",
              "      <th>big_picture</th>\n",
              "      <th>multitask</th>\n",
              "      <th>interrupt</th>\n",
              "      <th>social_comp</th>\n",
              "      <th>bored</th>\n",
              "      <th>reading_int</th>\n",
              "      <th>hyperfocus</th>\n",
              "      <th>read_faces</th>\n",
              "      <th>intentions</th>\n",
              "      <th>age</th>\n",
              "      <th>gender</th>\n",
              "      <th>family_autism</th>\n",
              "      <th>country</th>\n",
              "      <th>class/asd</th>\n",
              "    </tr>\n",
              "  </thead>\n",
              "  <tbody>\n",
              "    <tr>\n",
              "      <th>0</th>\n",
              "      <td>1</td>\n",
              "      <td>1</td>\n",
              "      <td>1</td>\n",
              "      <td>1</td>\n",
              "      <td>1</td>\n",
              "      <td>0</td>\n",
              "      <td>0</td>\n",
              "      <td>1</td>\n",
              "      <td>1</td>\n",
              "      <td>0</td>\n",
              "      <td>0</td>\n",
              "      <td>26</td>\n",
              "      <td>1</td>\n",
              "      <td>no</td>\n",
              "      <td>United States</td>\n",
              "      <td>0</td>\n",
              "    </tr>\n",
              "    <tr>\n",
              "      <th>1</th>\n",
              "      <td>2</td>\n",
              "      <td>1</td>\n",
              "      <td>1</td>\n",
              "      <td>0</td>\n",
              "      <td>1</td>\n",
              "      <td>0</td>\n",
              "      <td>0</td>\n",
              "      <td>0</td>\n",
              "      <td>1</td>\n",
              "      <td>0</td>\n",
              "      <td>1</td>\n",
              "      <td>24</td>\n",
              "      <td>0</td>\n",
              "      <td>yes</td>\n",
              "      <td>Brazil</td>\n",
              "      <td>0</td>\n",
              "    </tr>\n",
              "    <tr>\n",
              "      <th>2</th>\n",
              "      <td>3</td>\n",
              "      <td>1</td>\n",
              "      <td>1</td>\n",
              "      <td>0</td>\n",
              "      <td>1</td>\n",
              "      <td>1</td>\n",
              "      <td>0</td>\n",
              "      <td>1</td>\n",
              "      <td>1</td>\n",
              "      <td>1</td>\n",
              "      <td>1</td>\n",
              "      <td>27</td>\n",
              "      <td>0</td>\n",
              "      <td>yes</td>\n",
              "      <td>Spain</td>\n",
              "      <td>1</td>\n",
              "    </tr>\n",
              "    <tr>\n",
              "      <th>3</th>\n",
              "      <td>4</td>\n",
              "      <td>1</td>\n",
              "      <td>1</td>\n",
              "      <td>0</td>\n",
              "      <td>1</td>\n",
              "      <td>0</td>\n",
              "      <td>0</td>\n",
              "      <td>1</td>\n",
              "      <td>1</td>\n",
              "      <td>0</td>\n",
              "      <td>1</td>\n",
              "      <td>35</td>\n",
              "      <td>1</td>\n",
              "      <td>yes</td>\n",
              "      <td>United States</td>\n",
              "      <td>0</td>\n",
              "    </tr>\n",
              "    <tr>\n",
              "      <th>4</th>\n",
              "      <td>5</td>\n",
              "      <td>1</td>\n",
              "      <td>0</td>\n",
              "      <td>0</td>\n",
              "      <td>0</td>\n",
              "      <td>0</td>\n",
              "      <td>0</td>\n",
              "      <td>0</td>\n",
              "      <td>1</td>\n",
              "      <td>0</td>\n",
              "      <td>0</td>\n",
              "      <td>40</td>\n",
              "      <td>1</td>\n",
              "      <td>no</td>\n",
              "      <td>Egypt</td>\n",
              "      <td>0</td>\n",
              "    </tr>\n",
              "  </tbody>\n",
              "</table>\n",
              "</div>"
            ],
            "text/plain": [
              "   patient  sounds  big_picture  ...  family_autism        country  class/asd\n",
              "0        1       1            1  ...             no  United States          0\n",
              "1        2       1            1  ...            yes         Brazil          0\n",
              "2        3       1            1  ...            yes          Spain          1\n",
              "3        4       1            1  ...            yes  United States          0\n",
              "4        5       1            0  ...             no          Egypt          0\n",
              "\n",
              "[5 rows x 16 columns]"
            ]
          },
          "metadata": {
            "tags": []
          },
          "execution_count": 98
        }
      ]
    },
    {
      "cell_type": "code",
      "metadata": {
        "id": "Uc7tl3hcblqP",
        "colab_type": "code",
        "outputId": "d4dab595-6a5c-47c7-f0e3-23dd3229ef0b",
        "colab": {
          "base_uri": "https://localhost:8080/",
          "height": 503
        }
      },
      "source": [
        "df.corr()\n",
        "\n",
        "# two highest correlated non-target features (47.88%):\n",
        "# 'bored'\n",
        "# 'read_faces'"
      ],
      "execution_count": 0,
      "outputs": [
        {
          "output_type": "execute_result",
          "data": {
            "text/html": [
              "<div>\n",
              "<style scoped>\n",
              "    .dataframe tbody tr th:only-of-type {\n",
              "        vertical-align: middle;\n",
              "    }\n",
              "\n",
              "    .dataframe tbody tr th {\n",
              "        vertical-align: top;\n",
              "    }\n",
              "\n",
              "    .dataframe thead th {\n",
              "        text-align: right;\n",
              "    }\n",
              "</style>\n",
              "<table border=\"1\" class=\"dataframe\">\n",
              "  <thead>\n",
              "    <tr style=\"text-align: right;\">\n",
              "      <th></th>\n",
              "      <th>patient</th>\n",
              "      <th>sounds</th>\n",
              "      <th>big_picture</th>\n",
              "      <th>multitask</th>\n",
              "      <th>interrupt</th>\n",
              "      <th>social_comp</th>\n",
              "      <th>bored</th>\n",
              "      <th>reading_int</th>\n",
              "      <th>hyperfocus</th>\n",
              "      <th>read_faces</th>\n",
              "      <th>intentions</th>\n",
              "      <th>age</th>\n",
              "      <th>gender</th>\n",
              "      <th>class/asd</th>\n",
              "    </tr>\n",
              "  </thead>\n",
              "  <tbody>\n",
              "    <tr>\n",
              "      <th>patient</th>\n",
              "      <td>1.000000</td>\n",
              "      <td>0.060465</td>\n",
              "      <td>0.048101</td>\n",
              "      <td>0.029516</td>\n",
              "      <td>0.008942</td>\n",
              "      <td>0.037542</td>\n",
              "      <td>-0.062995</td>\n",
              "      <td>0.043661</td>\n",
              "      <td>-0.040806</td>\n",
              "      <td>0.010181</td>\n",
              "      <td>0.017084</td>\n",
              "      <td>-0.045238</td>\n",
              "      <td>-0.018814</td>\n",
              "      <td>0.037520</td>\n",
              "    </tr>\n",
              "    <tr>\n",
              "      <th>sounds</th>\n",
              "      <td>0.060465</td>\n",
              "      <td>1.000000</td>\n",
              "      <td>0.012033</td>\n",
              "      <td>0.070229</td>\n",
              "      <td>0.123898</td>\n",
              "      <td>0.170253</td>\n",
              "      <td>0.107769</td>\n",
              "      <td>0.219444</td>\n",
              "      <td>0.142301</td>\n",
              "      <td>0.142904</td>\n",
              "      <td>0.118341</td>\n",
              "      <td>0.023059</td>\n",
              "      <td>0.075594</td>\n",
              "      <td>0.296099</td>\n",
              "    </tr>\n",
              "    <tr>\n",
              "      <th>big_picture</th>\n",
              "      <td>0.048101</td>\n",
              "      <td>0.012033</td>\n",
              "      <td>1.000000</td>\n",
              "      <td>0.224762</td>\n",
              "      <td>0.159718</td>\n",
              "      <td>0.151401</td>\n",
              "      <td>0.186408</td>\n",
              "      <td>-0.044838</td>\n",
              "      <td>0.035919</td>\n",
              "      <td>0.206045</td>\n",
              "      <td>0.066231</td>\n",
              "      <td>0.020824</td>\n",
              "      <td>0.044654</td>\n",
              "      <td>0.312159</td>\n",
              "    </tr>\n",
              "    <tr>\n",
              "      <th>multitask</th>\n",
              "      <td>0.029516</td>\n",
              "      <td>0.070229</td>\n",
              "      <td>0.224762</td>\n",
              "      <td>1.000000</td>\n",
              "      <td>0.411198</td>\n",
              "      <td>0.265631</td>\n",
              "      <td>0.267671</td>\n",
              "      <td>0.078866</td>\n",
              "      <td>0.014268</td>\n",
              "      <td>0.313894</td>\n",
              "      <td>0.168516</td>\n",
              "      <td>0.029504</td>\n",
              "      <td>-0.000685</td>\n",
              "      <td>0.440248</td>\n",
              "    </tr>\n",
              "    <tr>\n",
              "      <th>interrupt</th>\n",
              "      <td>0.008942</td>\n",
              "      <td>0.123898</td>\n",
              "      <td>0.159718</td>\n",
              "      <td>0.411198</td>\n",
              "      <td>1.000000</td>\n",
              "      <td>0.307682</td>\n",
              "      <td>0.293951</td>\n",
              "      <td>0.152150</td>\n",
              "      <td>0.004794</td>\n",
              "      <td>0.326397</td>\n",
              "      <td>0.211155</td>\n",
              "      <td>0.032539</td>\n",
              "      <td>0.056789</td>\n",
              "      <td>0.469136</td>\n",
              "    </tr>\n",
              "    <tr>\n",
              "      <th>social_comp</th>\n",
              "      <td>0.037542</td>\n",
              "      <td>0.170253</td>\n",
              "      <td>0.151401</td>\n",
              "      <td>0.265631</td>\n",
              "      <td>0.307682</td>\n",
              "      <td>1.000000</td>\n",
              "      <td>0.393140</td>\n",
              "      <td>0.236398</td>\n",
              "      <td>0.102513</td>\n",
              "      <td>0.397423</td>\n",
              "      <td>0.265461</td>\n",
              "      <td>-0.025095</td>\n",
              "      <td>0.036949</td>\n",
              "      <td>0.538055</td>\n",
              "    </tr>\n",
              "    <tr>\n",
              "      <th>bored</th>\n",
              "      <td>-0.062995</td>\n",
              "      <td>0.107769</td>\n",
              "      <td>0.186408</td>\n",
              "      <td>0.267671</td>\n",
              "      <td>0.293951</td>\n",
              "      <td>0.393140</td>\n",
              "      <td>1.000000</td>\n",
              "      <td>0.176153</td>\n",
              "      <td>0.097996</td>\n",
              "      <td>0.478777</td>\n",
              "      <td>0.294771</td>\n",
              "      <td>0.034705</td>\n",
              "      <td>0.083858</td>\n",
              "      <td>0.591647</td>\n",
              "    </tr>\n",
              "    <tr>\n",
              "      <th>reading_int</th>\n",
              "      <td>0.043661</td>\n",
              "      <td>0.219444</td>\n",
              "      <td>-0.044838</td>\n",
              "      <td>0.078866</td>\n",
              "      <td>0.152150</td>\n",
              "      <td>0.236398</td>\n",
              "      <td>0.176153</td>\n",
              "      <td>1.000000</td>\n",
              "      <td>0.086408</td>\n",
              "      <td>0.190224</td>\n",
              "      <td>0.250011</td>\n",
              "      <td>-0.026533</td>\n",
              "      <td>-0.064994</td>\n",
              "      <td>0.352430</td>\n",
              "    </tr>\n",
              "    <tr>\n",
              "      <th>hyperfocus</th>\n",
              "      <td>-0.040806</td>\n",
              "      <td>0.142301</td>\n",
              "      <td>0.035919</td>\n",
              "      <td>0.014268</td>\n",
              "      <td>0.004794</td>\n",
              "      <td>0.102513</td>\n",
              "      <td>0.097996</td>\n",
              "      <td>0.086408</td>\n",
              "      <td>1.000000</td>\n",
              "      <td>0.099381</td>\n",
              "      <td>0.100618</td>\n",
              "      <td>-0.080438</td>\n",
              "      <td>-0.064223</td>\n",
              "      <td>0.235557</td>\n",
              "    </tr>\n",
              "    <tr>\n",
              "      <th>read_faces</th>\n",
              "      <td>0.010181</td>\n",
              "      <td>0.142904</td>\n",
              "      <td>0.206045</td>\n",
              "      <td>0.313894</td>\n",
              "      <td>0.326397</td>\n",
              "      <td>0.397423</td>\n",
              "      <td>0.478777</td>\n",
              "      <td>0.190224</td>\n",
              "      <td>0.099381</td>\n",
              "      <td>1.000000</td>\n",
              "      <td>0.283660</td>\n",
              "      <td>0.054004</td>\n",
              "      <td>-0.006870</td>\n",
              "      <td>0.635147</td>\n",
              "    </tr>\n",
              "    <tr>\n",
              "      <th>intentions</th>\n",
              "      <td>0.017084</td>\n",
              "      <td>0.118341</td>\n",
              "      <td>0.066231</td>\n",
              "      <td>0.168516</td>\n",
              "      <td>0.211155</td>\n",
              "      <td>0.265461</td>\n",
              "      <td>0.294771</td>\n",
              "      <td>0.250011</td>\n",
              "      <td>0.100618</td>\n",
              "      <td>0.283660</td>\n",
              "      <td>1.000000</td>\n",
              "      <td>-0.008085</td>\n",
              "      <td>0.052542</td>\n",
              "      <td>0.386435</td>\n",
              "    </tr>\n",
              "    <tr>\n",
              "      <th>age</th>\n",
              "      <td>-0.045238</td>\n",
              "      <td>0.023059</td>\n",
              "      <td>0.020824</td>\n",
              "      <td>0.029504</td>\n",
              "      <td>0.032539</td>\n",
              "      <td>-0.025095</td>\n",
              "      <td>0.034705</td>\n",
              "      <td>-0.026533</td>\n",
              "      <td>-0.080438</td>\n",
              "      <td>0.054004</td>\n",
              "      <td>-0.008085</td>\n",
              "      <td>1.000000</td>\n",
              "      <td>0.051424</td>\n",
              "      <td>0.059200</td>\n",
              "    </tr>\n",
              "    <tr>\n",
              "      <th>gender</th>\n",
              "      <td>-0.018814</td>\n",
              "      <td>0.075594</td>\n",
              "      <td>0.044654</td>\n",
              "      <td>-0.000685</td>\n",
              "      <td>0.056789</td>\n",
              "      <td>0.036949</td>\n",
              "      <td>0.083858</td>\n",
              "      <td>-0.064994</td>\n",
              "      <td>-0.064223</td>\n",
              "      <td>-0.006870</td>\n",
              "      <td>0.052542</td>\n",
              "      <td>0.051424</td>\n",
              "      <td>1.000000</td>\n",
              "      <td>0.080609</td>\n",
              "    </tr>\n",
              "    <tr>\n",
              "      <th>class/asd</th>\n",
              "      <td>0.037520</td>\n",
              "      <td>0.296099</td>\n",
              "      <td>0.312159</td>\n",
              "      <td>0.440248</td>\n",
              "      <td>0.469136</td>\n",
              "      <td>0.538055</td>\n",
              "      <td>0.591647</td>\n",
              "      <td>0.352430</td>\n",
              "      <td>0.235557</td>\n",
              "      <td>0.635147</td>\n",
              "      <td>0.386435</td>\n",
              "      <td>0.059200</td>\n",
              "      <td>0.080609</td>\n",
              "      <td>1.000000</td>\n",
              "    </tr>\n",
              "  </tbody>\n",
              "</table>\n",
              "</div>"
            ],
            "text/plain": [
              "              patient    sounds  big_picture  ...       age    gender  class/asd\n",
              "patient      1.000000  0.060465     0.048101  ... -0.045238 -0.018814   0.037520\n",
              "sounds       0.060465  1.000000     0.012033  ...  0.023059  0.075594   0.296099\n",
              "big_picture  0.048101  0.012033     1.000000  ...  0.020824  0.044654   0.312159\n",
              "multitask    0.029516  0.070229     0.224762  ...  0.029504 -0.000685   0.440248\n",
              "interrupt    0.008942  0.123898     0.159718  ...  0.032539  0.056789   0.469136\n",
              "social_comp  0.037542  0.170253     0.151401  ... -0.025095  0.036949   0.538055\n",
              "bored       -0.062995  0.107769     0.186408  ...  0.034705  0.083858   0.591647\n",
              "reading_int  0.043661  0.219444    -0.044838  ... -0.026533 -0.064994   0.352430\n",
              "hyperfocus  -0.040806  0.142301     0.035919  ... -0.080438 -0.064223   0.235557\n",
              "read_faces   0.010181  0.142904     0.206045  ...  0.054004 -0.006870   0.635147\n",
              "intentions   0.017084  0.118341     0.066231  ... -0.008085  0.052542   0.386435\n",
              "age         -0.045238  0.023059     0.020824  ...  1.000000  0.051424   0.059200\n",
              "gender      -0.018814  0.075594     0.044654  ...  0.051424  1.000000   0.080609\n",
              "class/asd    0.037520  0.296099     0.312159  ...  0.059200  0.080609   1.000000\n",
              "\n",
              "[14 rows x 14 columns]"
            ]
          },
          "metadata": {
            "tags": []
          },
          "execution_count": 99
        }
      ]
    },
    {
      "cell_type": "markdown",
      "metadata": {
        "id": "XDFitOfgFw8l",
        "colab_type": "text"
      },
      "source": [
        "The correlation feature allows me to verify whether or not one column has a high similarity with another column. It's essentially a matrix that gives a 0 to 1 float that allows me to discern how important the relationship is. \n",
        "\n",
        "Ultimately: \n",
        "\n",
        "\n",
        "`[bored]` showed a correlation score of 0.478777 with `[read_faces]`, which is significant enough to warrant additional exploration. \n",
        "\n",
        "Using that methodology, I also went with the following features: \n",
        "\n",
        "`[read_faces]`, `[social_comp]`, `[multitask]`, `[interrupt]`, `[gender]`, `[age]`\n",
        "\n",
        "For full disclosure, my goal for age was to be able to cluster or otherwise show more diversity in the graph for plotting, to allow me more options for sharing the data. Ultimately, I chose to stay with a tabular display, due to the information I wanted to share. As I learn more about showcasing relationships in different ways, I'll add visualizations and help clarify my analysis."
      ]
    },
    {
      "cell_type": "code",
      "metadata": {
        "id": "dFmXr5sviM1U",
        "colab_type": "code",
        "outputId": "dd582a81-1a93-4f51-ad80-91232964ee90",
        "colab": {
          "base_uri": "https://localhost:8080/",
          "height": 34
        }
      },
      "source": [
        "#split data\n",
        "\n",
        "X = df[['bored', 'read_faces', 'social_comp', 'multitask', 'interrupt', 'gender', 'age']]\n",
        "y = df['class/asd']\n",
        "X_train, X_test, y_train, y_test = train_test_split(X, y, random_state=42)\n",
        "#model creation\n",
        "model = Pipeline([('xgb', xgb.XGBClassifier(random_state=42))])\n",
        "#model fit\n",
        "model.fit(X_train, y_train)\n",
        "y_pred = model.predict(X_test)\n",
        "accuracy_score(y_test, y_pred)\n",
        "# 85.8% Baseline"
      ],
      "execution_count": 0,
      "outputs": [
        {
          "output_type": "execute_result",
          "data": {
            "text/plain": [
              "0.9090909090909091"
            ]
          },
          "metadata": {
            "tags": []
          },
          "execution_count": 100
        }
      ]
    },
    {
      "cell_type": "markdown",
      "metadata": {
        "id": "qqRnJPpKF1sc",
        "colab_type": "text"
      },
      "source": [
        "###Model Results Discussion/Next Steps\n",
        "\n",
        "> The initial accuracy score was based on bored, and read faces, and was 85.8%. After adding features one at a time, I was able to tune the model to get an accuracy score of \n",
        "\n",
        "###0.90909090909090901\n",
        "\n",
        "> Meaning the model could predict the diagnosis of a patient 90.909% of the time. *Not. Too. Shabby.* "
      ]
    },
    {
      "cell_type": "code",
      "metadata": {
        "id": "4C9IsHwQG_02",
        "colab_type": "code",
        "outputId": "6cd707f1-fb8c-41d0-c6f5-e7ab6f6eb7c5",
        "colab": {
          "base_uri": "https://localhost:8080/",
          "height": 34
        }
      },
      "source": [
        "#k means accuracy for comparison\n",
        "\n",
        "kfold = KFold(n_splits=5, random_state=42)\n",
        "results = cross_val_score(model, X, y, cv=kfold)\n",
        "results.mean()"
      ],
      "execution_count": 0,
      "outputs": [
        {
          "output_type": "execute_result",
          "data": {
            "text/plain": [
              "0.9059878419452888"
            ]
          },
          "metadata": {
            "tags": []
          },
          "execution_count": 101
        }
      ]
    },
    {
      "cell_type": "markdown",
      "metadata": {
        "id": "JqcY9TOvN1Pq",
        "colab_type": "text"
      },
      "source": [
        "\n",
        "\n",
        "> Utilizing an additional categorical verification method, I chose iteration to see if multiple models could find something better. \n",
        "\n",
        "###0.9059878419452888\n",
        "\n",
        "> The K Means Accuracy score was pretty dang close to the Accuracy Score. \n",
        "\n",
        "*My future goal is to create additional features based on the grading methodology for the assessment, as well as the previous diagnostic methods and how the same patients would have fared given the changes to the diagnostic process over time.*\n",
        "\n"
      ]
    },
    {
      "cell_type": "markdown",
      "metadata": {
        "id": "PMjOqN9FFL5I",
        "colab_type": "text"
      },
      "source": [
        "#First Visualization / Interactive"
      ]
    },
    {
      "cell_type": "code",
      "metadata": {
        "id": "BxtwIafd5f7E",
        "colab_type": "code",
        "outputId": "76eaf0cb-ddb5-4a2c-8ab4-eee11dd42eab",
        "colab": {
          "base_uri": "https://localhost:8080/",
          "height": 617
        }
      },
      "source": [
        "# GRAPH DATA\n",
        "\n",
        "questions = ['sounds', 'big_picture', 'multitask', 'interrupt', \n",
        "           'social_comp', 'bored', 'reading_int', 'hyperfocus', 'read_faces',\n",
        "           'intentions']\n",
        "df2 = pd.melt(df[questions], value_vars=questions)\n",
        "df2 = df2[df2.value == 1]\n",
        "fig = px.histogram(df2, x='variable', title='% of Patients that said Yes to Questions')\n",
        "fig.show()"
      ],
      "execution_count": 0,
      "outputs": [
        {
          "output_type": "display_data",
          "data": {
            "text/html": [
              "<html>\n",
              "<head><meta charset=\"utf-8\" /></head>\n",
              "<body>\n",
              "    <div>\n",
              "            <script src=\"https://cdnjs.cloudflare.com/ajax/libs/mathjax/2.7.5/MathJax.js?config=TeX-AMS-MML_SVG\"></script><script type=\"text/javascript\">if (window.MathJax) {MathJax.Hub.Config({SVG: {font: \"STIX-Web\"}});}</script>\n",
              "                <script type=\"text/javascript\">window.PlotlyConfig = {MathJaxConfig: 'local'};</script>\n",
              "        <script src=\"https://cdn.plot.ly/plotly-latest.min.js\"></script>    \n",
              "            <div id=\"78493a42-8e1d-43e9-9aa8-d6413df2aa61\" class=\"plotly-graph-div\" style=\"height:600px; width:100%;\"></div>\n",
              "            <script type=\"text/javascript\">\n",
              "                \n",
              "                    window.PLOTLYENV=window.PLOTLYENV || {};\n",
              "                    \n",
              "                if (document.getElementById(\"78493a42-8e1d-43e9-9aa8-d6413df2aa61\")) {\n",
              "                    Plotly.newPlot(\n",
              "                        '78493a42-8e1d-43e9-9aa8-d6413df2aa61',\n",
              "                        [{\"alignmentgroup\": \"True\", \"bingroup\": \"x\", \"hoverlabel\": {\"namelength\": 0}, \"hovertemplate\": \"variable=%{x}<br>count=%{y}\", \"legendgroup\": \"\", \"marker\": {\"color\": \"#636efa\"}, \"name\": \"\", \"offsetgroup\": \"\", \"orientation\": \"v\", \"showlegend\": false, \"type\": \"histogram\", \"x\": [\"sounds\", \"sounds\", \"sounds\", \"sounds\", \"sounds\", \"sounds\", \"sounds\", \"sounds\", \"sounds\", \"sounds\", \"sounds\", \"sounds\", \"sounds\", \"sounds\", \"sounds\", \"sounds\", \"sounds\", \"sounds\", \"sounds\", \"sounds\", \"sounds\", \"sounds\", \"sounds\", \"sounds\", \"sounds\", \"sounds\", \"sounds\", \"sounds\", \"sounds\", \"sounds\", \"sounds\", \"sounds\", \"sounds\", \"sounds\", \"sounds\", \"sounds\", \"sounds\", \"sounds\", \"sounds\", \"sounds\", \"sounds\", \"sounds\", \"sounds\", \"sounds\", \"sounds\", \"sounds\", \"sounds\", \"sounds\", \"sounds\", \"sounds\", \"sounds\", \"sounds\", \"sounds\", \"sounds\", \"sounds\", \"sounds\", \"sounds\", \"sounds\", \"sounds\", \"sounds\", \"sounds\", \"sounds\", \"sounds\", \"sounds\", \"sounds\", \"sounds\", \"sounds\", \"sounds\", \"sounds\", \"sounds\", \"sounds\", \"sounds\", \"sounds\", \"sounds\", \"sounds\", \"sounds\", \"sounds\", \"sounds\", \"sounds\", \"sounds\", \"sounds\", \"sounds\", \"sounds\", \"sounds\", \"sounds\", \"sounds\", \"sounds\", \"sounds\", \"sounds\", \"sounds\", \"sounds\", \"sounds\", \"sounds\", \"sounds\", \"sounds\", \"sounds\", \"sounds\", \"sounds\", \"sounds\", \"sounds\", \"sounds\", \"sounds\", \"sounds\", \"sounds\", \"sounds\", \"sounds\", \"sounds\", \"sounds\", \"sounds\", \"sounds\", \"sounds\", \"sounds\", \"sounds\", \"sounds\", \"sounds\", \"sounds\", \"sounds\", \"sounds\", \"sounds\", \"sounds\", \"sounds\", \"sounds\", \"sounds\", \"sounds\", \"sounds\", \"sounds\", \"sounds\", \"sounds\", \"sounds\", \"sounds\", \"sounds\", \"sounds\", \"sounds\", \"sounds\", \"sounds\", \"sounds\", \"sounds\", \"sounds\", \"sounds\", \"sounds\", \"sounds\", \"sounds\", \"sounds\", \"sounds\", \"sounds\", \"sounds\", \"sounds\", \"sounds\", \"sounds\", \"sounds\", \"sounds\", \"sounds\", \"sounds\", \"sounds\", \"sounds\", \"sounds\", \"sounds\", \"sounds\", \"sounds\", \"sounds\", \"sounds\", \"sounds\", \"sounds\", \"sounds\", \"sounds\", \"sounds\", \"sounds\", \"sounds\", \"sounds\", \"sounds\", \"sounds\", \"sounds\", \"sounds\", \"sounds\", \"sounds\", \"sounds\", \"sounds\", \"sounds\", \"sounds\", \"sounds\", \"sounds\", \"sounds\", \"sounds\", \"sounds\", \"sounds\", \"sounds\", \"sounds\", \"sounds\", \"sounds\", \"sounds\", \"sounds\", \"sounds\", \"sounds\", \"sounds\", \"sounds\", \"sounds\", \"sounds\", \"sounds\", \"sounds\", \"sounds\", \"sounds\", \"sounds\", \"sounds\", \"sounds\", \"sounds\", \"sounds\", \"sounds\", \"sounds\", \"sounds\", \"sounds\", \"sounds\", \"sounds\", \"sounds\", \"sounds\", \"sounds\", \"sounds\", \"sounds\", \"sounds\", \"sounds\", \"sounds\", \"sounds\", \"sounds\", \"sounds\", \"sounds\", \"sounds\", \"sounds\", \"sounds\", \"sounds\", \"sounds\", \"sounds\", \"sounds\", \"sounds\", \"sounds\", \"sounds\", \"sounds\", \"sounds\", \"sounds\", \"sounds\", \"sounds\", \"sounds\", \"sounds\", \"sounds\", \"sounds\", \"sounds\", \"sounds\", \"sounds\", \"sounds\", \"sounds\", \"sounds\", \"sounds\", \"sounds\", \"sounds\", \"sounds\", \"sounds\", \"sounds\", \"sounds\", \"sounds\", \"sounds\", \"sounds\", \"sounds\", \"sounds\", \"sounds\", \"sounds\", \"sounds\", \"sounds\", \"sounds\", \"sounds\", \"sounds\", \"sounds\", \"sounds\", \"sounds\", \"sounds\", \"sounds\", \"sounds\", \"sounds\", \"sounds\", \"sounds\", \"sounds\", \"sounds\", \"sounds\", \"sounds\", \"sounds\", \"sounds\", \"sounds\", \"sounds\", \"sounds\", \"sounds\", \"sounds\", \"sounds\", \"sounds\", \"sounds\", \"sounds\", \"sounds\", \"sounds\", \"sounds\", \"sounds\", \"sounds\", \"sounds\", \"sounds\", \"sounds\", \"sounds\", \"sounds\", \"sounds\", \"sounds\", \"sounds\", \"sounds\", \"sounds\", \"sounds\", \"sounds\", \"sounds\", \"sounds\", \"sounds\", \"sounds\", \"sounds\", \"sounds\", \"sounds\", \"sounds\", \"sounds\", \"sounds\", \"sounds\", \"sounds\", \"sounds\", \"sounds\", \"sounds\", \"sounds\", \"sounds\", \"sounds\", \"sounds\", \"sounds\", \"sounds\", \"sounds\", \"sounds\", \"sounds\", \"sounds\", \"sounds\", \"sounds\", \"sounds\", \"sounds\", \"sounds\", \"sounds\", \"sounds\", \"sounds\", \"sounds\", \"sounds\", \"sounds\", \"sounds\", \"sounds\", \"sounds\", \"sounds\", \"sounds\", \"sounds\", \"sounds\", \"sounds\", \"sounds\", \"sounds\", \"sounds\", \"sounds\", \"sounds\", \"sounds\", \"sounds\", \"sounds\", \"sounds\", \"sounds\", \"sounds\", \"sounds\", \"sounds\", \"sounds\", \"sounds\", \"sounds\", \"sounds\", \"sounds\", \"sounds\", \"sounds\", \"sounds\", \"sounds\", \"sounds\", \"sounds\", \"sounds\", \"sounds\", \"sounds\", \"sounds\", \"sounds\", \"sounds\", \"sounds\", \"sounds\", \"sounds\", \"sounds\", \"sounds\", \"sounds\", \"sounds\", \"sounds\", \"sounds\", \"sounds\", \"sounds\", \"sounds\", \"sounds\", \"sounds\", \"sounds\", \"sounds\", \"sounds\", \"sounds\", \"sounds\", \"sounds\", \"sounds\", \"sounds\", \"sounds\", \"sounds\", \"sounds\", \"sounds\", \"sounds\", \"sounds\", \"sounds\", \"sounds\", \"sounds\", \"sounds\", \"sounds\", \"sounds\", \"sounds\", \"sounds\", \"sounds\", \"sounds\", \"sounds\", \"sounds\", \"sounds\", \"sounds\", \"sounds\", \"sounds\", \"sounds\", \"sounds\", \"sounds\", \"sounds\", \"sounds\", \"sounds\", \"sounds\", \"sounds\", \"sounds\", \"sounds\", \"sounds\", \"sounds\", \"sounds\", \"sounds\", \"sounds\", \"sounds\", \"sounds\", \"sounds\", \"sounds\", \"sounds\", \"sounds\", \"sounds\", \"sounds\", \"sounds\", \"sounds\", \"sounds\", \"sounds\", \"sounds\", \"sounds\", \"sounds\", \"sounds\", \"sounds\", \"sounds\", \"sounds\", \"sounds\", \"sounds\", \"sounds\", \"sounds\", \"sounds\", \"sounds\", \"sounds\", \"sounds\", \"sounds\", \"sounds\", \"sounds\", \"sounds\", \"sounds\", \"sounds\", \"sounds\", \"sounds\", \"sounds\", \"sounds\", \"sounds\", \"sounds\", \"sounds\", \"sounds\", \"sounds\", \"sounds\", \"sounds\", \"sounds\", \"sounds\", \"sounds\", \"sounds\", \"sounds\", \"sounds\", \"sounds\", \"sounds\", \"sounds\", \"sounds\", \"sounds\", \"sounds\", \"sounds\", \"sounds\", \"sounds\", \"sounds\", \"sounds\", \"sounds\", \"sounds\", \"sounds\", \"sounds\", \"sounds\", \"big_picture\", \"big_picture\", \"big_picture\", \"big_picture\", \"big_picture\", \"big_picture\", \"big_picture\", \"big_picture\", \"big_picture\", \"big_picture\", \"big_picture\", \"big_picture\", \"big_picture\", \"big_picture\", \"big_picture\", \"big_picture\", \"big_picture\", \"big_picture\", \"big_picture\", \"big_picture\", \"big_picture\", \"big_picture\", \"big_picture\", \"big_picture\", \"big_picture\", \"big_picture\", \"big_picture\", \"big_picture\", \"big_picture\", \"big_picture\", \"big_picture\", \"big_picture\", \"big_picture\", \"big_picture\", \"big_picture\", \"big_picture\", \"big_picture\", \"big_picture\", \"big_picture\", \"big_picture\", \"big_picture\", \"big_picture\", \"big_picture\", \"big_picture\", \"big_picture\", \"big_picture\", \"big_picture\", \"big_picture\", \"big_picture\", \"big_picture\", \"big_picture\", \"big_picture\", \"big_picture\", \"big_picture\", \"big_picture\", \"big_picture\", \"big_picture\", \"big_picture\", \"big_picture\", \"big_picture\", \"big_picture\", \"big_picture\", \"big_picture\", \"big_picture\", \"big_picture\", \"big_picture\", \"big_picture\", \"big_picture\", \"big_picture\", \"big_picture\", \"big_picture\", \"big_picture\", \"big_picture\", \"big_picture\", \"big_picture\", \"big_picture\", \"big_picture\", \"big_picture\", \"big_picture\", \"big_picture\", \"big_picture\", \"big_picture\", \"big_picture\", \"big_picture\", \"big_picture\", \"big_picture\", \"big_picture\", \"big_picture\", \"big_picture\", \"big_picture\", \"big_picture\", \"big_picture\", \"big_picture\", \"big_picture\", \"big_picture\", \"big_picture\", \"big_picture\", \"big_picture\", \"big_picture\", \"big_picture\", \"big_picture\", \"big_picture\", \"big_picture\", \"big_picture\", \"big_picture\", \"big_picture\", \"big_picture\", \"big_picture\", \"big_picture\", \"big_picture\", \"big_picture\", \"big_picture\", \"big_picture\", \"big_picture\", \"big_picture\", \"big_picture\", \"big_picture\", \"big_picture\", \"big_picture\", \"big_picture\", \"big_picture\", \"big_picture\", \"big_picture\", \"big_picture\", \"big_picture\", \"big_picture\", \"big_picture\", \"big_picture\", \"big_picture\", \"big_picture\", \"big_picture\", \"big_picture\", \"big_picture\", \"big_picture\", \"big_picture\", \"big_picture\", \"big_picture\", \"big_picture\", \"big_picture\", \"big_picture\", \"big_picture\", \"big_picture\", \"big_picture\", \"big_picture\", \"big_picture\", \"big_picture\", \"big_picture\", \"big_picture\", \"big_picture\", \"big_picture\", \"big_picture\", \"big_picture\", \"big_picture\", \"big_picture\", \"big_picture\", \"big_picture\", \"big_picture\", \"big_picture\", \"big_picture\", \"big_picture\", \"big_picture\", \"big_picture\", \"big_picture\", \"big_picture\", \"big_picture\", \"big_picture\", \"big_picture\", \"big_picture\", \"big_picture\", \"big_picture\", \"big_picture\", \"big_picture\", \"big_picture\", \"big_picture\", \"big_picture\", \"big_picture\", \"big_picture\", \"big_picture\", \"big_picture\", \"big_picture\", \"big_picture\", \"big_picture\", \"big_picture\", \"big_picture\", \"big_picture\", \"big_picture\", \"big_picture\", \"big_picture\", \"big_picture\", \"big_picture\", \"big_picture\", \"big_picture\", \"big_picture\", \"big_picture\", \"big_picture\", \"big_picture\", \"big_picture\", \"big_picture\", \"big_picture\", \"big_picture\", \"big_picture\", \"big_picture\", \"big_picture\", \"big_picture\", \"big_picture\", \"big_picture\", \"big_picture\", \"big_picture\", \"big_picture\", \"big_picture\", \"big_picture\", \"big_picture\", \"big_picture\", \"big_picture\", \"big_picture\", \"big_picture\", \"big_picture\", \"big_picture\", \"big_picture\", \"big_picture\", \"big_picture\", \"big_picture\", \"big_picture\", \"big_picture\", \"big_picture\", \"big_picture\", \"big_picture\", \"big_picture\", \"big_picture\", \"big_picture\", \"big_picture\", \"big_picture\", \"big_picture\", \"big_picture\", \"big_picture\", \"big_picture\", \"big_picture\", \"big_picture\", \"big_picture\", \"big_picture\", \"big_picture\", \"big_picture\", \"big_picture\", \"big_picture\", \"big_picture\", \"big_picture\", \"big_picture\", \"big_picture\", \"big_picture\", \"big_picture\", \"big_picture\", \"big_picture\", \"big_picture\", \"big_picture\", \"big_picture\", \"big_picture\", \"big_picture\", \"big_picture\", \"big_picture\", \"big_picture\", \"big_picture\", \"big_picture\", \"big_picture\", \"big_picture\", \"big_picture\", \"big_picture\", \"big_picture\", \"big_picture\", \"big_picture\", \"big_picture\", \"big_picture\", \"big_picture\", \"big_picture\", \"big_picture\", \"big_picture\", \"big_picture\", \"big_picture\", \"big_picture\", \"big_picture\", \"big_picture\", \"big_picture\", \"big_picture\", \"big_picture\", \"big_picture\", \"big_picture\", \"big_picture\", \"big_picture\", \"big_picture\", \"big_picture\", \"big_picture\", \"big_picture\", \"big_picture\", \"big_picture\", \"big_picture\", \"big_picture\", \"big_picture\", \"big_picture\", \"big_picture\", \"big_picture\", \"big_picture\", \"big_picture\", \"big_picture\", \"big_picture\", \"big_picture\", \"big_picture\", \"big_picture\", \"big_picture\", \"big_picture\", \"big_picture\", \"big_picture\", \"big_picture\", \"big_picture\", \"big_picture\", \"big_picture\", \"big_picture\", \"big_picture\", \"big_picture\", \"big_picture\", \"multitask\", \"multitask\", \"multitask\", \"multitask\", \"multitask\", \"multitask\", \"multitask\", \"multitask\", \"multitask\", \"multitask\", \"multitask\", \"multitask\", \"multitask\", \"multitask\", \"multitask\", \"multitask\", \"multitask\", \"multitask\", \"multitask\", \"multitask\", \"multitask\", \"multitask\", \"multitask\", \"multitask\", \"multitask\", \"multitask\", \"multitask\", \"multitask\", \"multitask\", \"multitask\", \"multitask\", \"multitask\", \"multitask\", \"multitask\", \"multitask\", \"multitask\", \"multitask\", \"multitask\", \"multitask\", \"multitask\", \"multitask\", \"multitask\", \"multitask\", \"multitask\", \"multitask\", \"multitask\", \"multitask\", \"multitask\", \"multitask\", \"multitask\", \"multitask\", \"multitask\", \"multitask\", \"multitask\", \"multitask\", \"multitask\", \"multitask\", \"multitask\", \"multitask\", \"multitask\", \"multitask\", \"multitask\", \"multitask\", \"multitask\", \"multitask\", \"multitask\", \"multitask\", \"multitask\", \"multitask\", \"multitask\", \"multitask\", \"multitask\", \"multitask\", \"multitask\", \"multitask\", \"multitask\", \"multitask\", \"multitask\", \"multitask\", \"multitask\", \"multitask\", \"multitask\", \"multitask\", \"multitask\", \"multitask\", \"multitask\", \"multitask\", \"multitask\", \"multitask\", \"multitask\", \"multitask\", \"multitask\", \"multitask\", \"multitask\", \"multitask\", \"multitask\", \"multitask\", \"multitask\", \"multitask\", \"multitask\", \"multitask\", \"multitask\", \"multitask\", \"multitask\", \"multitask\", \"multitask\", \"multitask\", \"multitask\", \"multitask\", \"multitask\", \"multitask\", \"multitask\", \"multitask\", \"multitask\", \"multitask\", \"multitask\", \"multitask\", \"multitask\", \"multitask\", \"multitask\", \"multitask\", \"multitask\", \"multitask\", \"multitask\", \"multitask\", \"multitask\", \"multitask\", \"multitask\", \"multitask\", \"multitask\", \"multitask\", \"multitask\", \"multitask\", \"multitask\", \"multitask\", \"multitask\", \"multitask\", \"multitask\", \"multitask\", \"multitask\", \"multitask\", \"multitask\", \"multitask\", \"multitask\", \"multitask\", \"multitask\", \"multitask\", \"multitask\", \"multitask\", \"multitask\", \"multitask\", \"multitask\", \"multitask\", \"multitask\", \"multitask\", \"multitask\", \"multitask\", \"multitask\", \"multitask\", \"multitask\", \"multitask\", \"multitask\", \"multitask\", \"multitask\", \"multitask\", \"multitask\", \"multitask\", \"multitask\", \"multitask\", \"multitask\", \"multitask\", \"multitask\", \"multitask\", \"multitask\", \"multitask\", \"multitask\", \"multitask\", \"multitask\", \"multitask\", \"multitask\", \"multitask\", \"multitask\", \"multitask\", \"multitask\", \"multitask\", \"multitask\", \"multitask\", \"multitask\", \"multitask\", \"multitask\", \"multitask\", \"multitask\", \"multitask\", \"multitask\", \"multitask\", \"multitask\", \"multitask\", \"multitask\", \"multitask\", \"multitask\", \"multitask\", \"multitask\", \"multitask\", \"multitask\", \"multitask\", \"multitask\", \"multitask\", \"multitask\", \"multitask\", \"multitask\", \"multitask\", \"multitask\", \"multitask\", \"multitask\", \"multitask\", \"multitask\", \"multitask\", \"multitask\", \"multitask\", \"multitask\", \"multitask\", \"multitask\", \"multitask\", \"multitask\", \"multitask\", \"multitask\", \"multitask\", \"multitask\", \"multitask\", \"multitask\", \"multitask\", \"multitask\", \"multitask\", \"multitask\", \"multitask\", \"multitask\", \"multitask\", \"multitask\", \"multitask\", \"multitask\", \"multitask\", \"multitask\", \"multitask\", \"multitask\", \"multitask\", \"multitask\", \"multitask\", \"multitask\", \"multitask\", \"multitask\", \"multitask\", \"multitask\", \"multitask\", \"multitask\", \"multitask\", \"multitask\", \"multitask\", \"multitask\", \"multitask\", \"multitask\", \"multitask\", \"multitask\", \"multitask\", \"multitask\", \"multitask\", \"multitask\", \"multitask\", \"multitask\", \"multitask\", \"multitask\", \"multitask\", \"multitask\", \"multitask\", \"multitask\", \"multitask\", \"multitask\", \"multitask\", \"multitask\", \"multitask\", \"multitask\", \"multitask\", \"multitask\", \"multitask\", \"multitask\", \"multitask\", \"multitask\", \"multitask\", \"multitask\", \"multitask\", \"multitask\", \"multitask\", \"multitask\", \"multitask\", \"multitask\", \"multitask\", \"multitask\", \"multitask\", \"multitask\", \"multitask\", \"multitask\", \"multitask\", \"multitask\", \"multitask\", \"multitask\", \"multitask\", \"multitask\", \"multitask\", \"multitask\", \"multitask\", \"multitask\", \"multitask\", \"multitask\", \"multitask\", \"multitask\", \"multitask\", \"multitask\", \"multitask\", \"multitask\", \"multitask\", \"multitask\", \"multitask\", \"multitask\", \"interrupt\", \"interrupt\", \"interrupt\", \"interrupt\", \"interrupt\", \"interrupt\", \"interrupt\", \"interrupt\", \"interrupt\", \"interrupt\", \"interrupt\", \"interrupt\", \"interrupt\", \"interrupt\", \"interrupt\", \"interrupt\", \"interrupt\", \"interrupt\", \"interrupt\", \"interrupt\", \"interrupt\", \"interrupt\", \"interrupt\", \"interrupt\", \"interrupt\", \"interrupt\", \"interrupt\", \"interrupt\", \"interrupt\", \"interrupt\", \"interrupt\", \"interrupt\", \"interrupt\", \"interrupt\", \"interrupt\", \"interrupt\", \"interrupt\", \"interrupt\", \"interrupt\", \"interrupt\", \"interrupt\", \"interrupt\", \"interrupt\", \"interrupt\", \"interrupt\", \"interrupt\", \"interrupt\", \"interrupt\", \"interrupt\", \"interrupt\", \"interrupt\", \"interrupt\", \"interrupt\", \"interrupt\", \"interrupt\", \"interrupt\", \"interrupt\", \"interrupt\", \"interrupt\", \"interrupt\", \"interrupt\", \"interrupt\", \"interrupt\", \"interrupt\", \"interrupt\", \"interrupt\", \"interrupt\", \"interrupt\", \"interrupt\", \"interrupt\", \"interrupt\", \"interrupt\", \"interrupt\", \"interrupt\", \"interrupt\", \"interrupt\", \"interrupt\", \"interrupt\", \"interrupt\", \"interrupt\", \"interrupt\", \"interrupt\", \"interrupt\", \"interrupt\", \"interrupt\", \"interrupt\", \"interrupt\", \"interrupt\", \"interrupt\", \"interrupt\", \"interrupt\", \"interrupt\", \"interrupt\", \"interrupt\", \"interrupt\", \"interrupt\", \"interrupt\", \"interrupt\", \"interrupt\", \"interrupt\", \"interrupt\", \"interrupt\", \"interrupt\", \"interrupt\", \"interrupt\", \"interrupt\", \"interrupt\", \"interrupt\", \"interrupt\", \"interrupt\", \"interrupt\", \"interrupt\", \"interrupt\", \"interrupt\", \"interrupt\", \"interrupt\", \"interrupt\", \"interrupt\", \"interrupt\", \"interrupt\", \"interrupt\", \"interrupt\", \"interrupt\", \"interrupt\", \"interrupt\", \"interrupt\", \"interrupt\", \"interrupt\", \"interrupt\", \"interrupt\", \"interrupt\", \"interrupt\", \"interrupt\", \"interrupt\", \"interrupt\", \"interrupt\", \"interrupt\", \"interrupt\", \"interrupt\", \"interrupt\", \"interrupt\", \"interrupt\", \"interrupt\", \"interrupt\", \"interrupt\", \"interrupt\", \"interrupt\", \"interrupt\", \"interrupt\", \"interrupt\", \"interrupt\", \"interrupt\", \"interrupt\", \"interrupt\", \"interrupt\", \"interrupt\", \"interrupt\", \"interrupt\", \"interrupt\", \"interrupt\", \"interrupt\", \"interrupt\", \"interrupt\", \"interrupt\", \"interrupt\", \"interrupt\", \"interrupt\", \"interrupt\", \"interrupt\", \"interrupt\", \"interrupt\", \"interrupt\", \"interrupt\", \"interrupt\", \"interrupt\", \"interrupt\", \"interrupt\", \"interrupt\", \"interrupt\", \"interrupt\", \"interrupt\", \"interrupt\", \"interrupt\", \"interrupt\", \"interrupt\", \"interrupt\", \"interrupt\", \"interrupt\", \"interrupt\", \"interrupt\", \"interrupt\", \"interrupt\", \"interrupt\", \"interrupt\", \"interrupt\", \"interrupt\", \"interrupt\", \"interrupt\", \"interrupt\", \"interrupt\", \"interrupt\", \"interrupt\", \"interrupt\", \"interrupt\", \"interrupt\", \"interrupt\", \"interrupt\", \"interrupt\", \"interrupt\", \"interrupt\", \"interrupt\", \"interrupt\", \"interrupt\", \"interrupt\", \"interrupt\", \"interrupt\", \"interrupt\", \"interrupt\", \"interrupt\", \"interrupt\", \"interrupt\", \"interrupt\", \"interrupt\", \"interrupt\", \"interrupt\", \"interrupt\", \"interrupt\", \"interrupt\", \"interrupt\", \"interrupt\", \"interrupt\", \"interrupt\", \"interrupt\", \"interrupt\", \"interrupt\", \"interrupt\", \"interrupt\", \"interrupt\", \"interrupt\", \"interrupt\", \"interrupt\", \"interrupt\", \"interrupt\", \"interrupt\", \"interrupt\", \"interrupt\", \"interrupt\", \"interrupt\", \"interrupt\", \"interrupt\", \"interrupt\", \"interrupt\", \"interrupt\", \"interrupt\", \"interrupt\", \"interrupt\", \"interrupt\", \"interrupt\", \"interrupt\", \"interrupt\", \"interrupt\", \"interrupt\", \"interrupt\", \"interrupt\", \"interrupt\", \"interrupt\", \"interrupt\", \"interrupt\", \"interrupt\", \"interrupt\", \"interrupt\", \"interrupt\", \"interrupt\", \"interrupt\", \"interrupt\", \"interrupt\", \"interrupt\", \"interrupt\", \"interrupt\", \"interrupt\", \"interrupt\", \"interrupt\", \"interrupt\", \"interrupt\", \"interrupt\", \"interrupt\", \"interrupt\", \"interrupt\", \"interrupt\", \"interrupt\", \"interrupt\", \"interrupt\", \"interrupt\", \"interrupt\", \"interrupt\", \"interrupt\", \"interrupt\", \"interrupt\", \"interrupt\", \"interrupt\", \"interrupt\", \"interrupt\", \"interrupt\", \"interrupt\", \"interrupt\", \"interrupt\", \"interrupt\", \"interrupt\", \"interrupt\", \"interrupt\", \"interrupt\", \"interrupt\", \"interrupt\", \"interrupt\", \"interrupt\", \"interrupt\", \"interrupt\", \"interrupt\", \"interrupt\", \"interrupt\", \"interrupt\", \"interrupt\", \"interrupt\", \"interrupt\", \"interrupt\", \"interrupt\", \"interrupt\", \"interrupt\", \"interrupt\", \"interrupt\", \"interrupt\", \"interrupt\", \"interrupt\", \"interrupt\", \"interrupt\", \"interrupt\", \"interrupt\", \"interrupt\", \"interrupt\", \"interrupt\", \"interrupt\", \"interrupt\", \"interrupt\", \"interrupt\", \"interrupt\", \"interrupt\", \"interrupt\", \"interrupt\", \"interrupt\", \"social_comp\", \"social_comp\", \"social_comp\", \"social_comp\", \"social_comp\", \"social_comp\", \"social_comp\", \"social_comp\", \"social_comp\", \"social_comp\", \"social_comp\", \"social_comp\", \"social_comp\", \"social_comp\", \"social_comp\", \"social_comp\", \"social_comp\", \"social_comp\", \"social_comp\", \"social_comp\", \"social_comp\", \"social_comp\", \"social_comp\", \"social_comp\", \"social_comp\", \"social_comp\", \"social_comp\", \"social_comp\", \"social_comp\", \"social_comp\", \"social_comp\", \"social_comp\", \"social_comp\", \"social_comp\", \"social_comp\", \"social_comp\", \"social_comp\", \"social_comp\", \"social_comp\", \"social_comp\", \"social_comp\", \"social_comp\", \"social_comp\", \"social_comp\", \"social_comp\", \"social_comp\", \"social_comp\", \"social_comp\", \"social_comp\", \"social_comp\", \"social_comp\", \"social_comp\", \"social_comp\", \"social_comp\", \"social_comp\", \"social_comp\", \"social_comp\", \"social_comp\", \"social_comp\", \"social_comp\", \"social_comp\", \"social_comp\", \"social_comp\", \"social_comp\", \"social_comp\", \"social_comp\", \"social_comp\", \"social_comp\", \"social_comp\", \"social_comp\", \"social_comp\", \"social_comp\", \"social_comp\", \"social_comp\", \"social_comp\", \"social_comp\", \"social_comp\", \"social_comp\", \"social_comp\", \"social_comp\", \"social_comp\", \"social_comp\", \"social_comp\", \"social_comp\", \"social_comp\", \"social_comp\", \"social_comp\", \"social_comp\", \"social_comp\", \"social_comp\", \"social_comp\", \"social_comp\", \"social_comp\", \"social_comp\", \"social_comp\", \"social_comp\", \"social_comp\", \"social_comp\", \"social_comp\", \"social_comp\", \"social_comp\", \"social_comp\", \"social_comp\", \"social_comp\", \"social_comp\", \"social_comp\", \"social_comp\", \"social_comp\", \"social_comp\", \"social_comp\", \"social_comp\", \"social_comp\", \"social_comp\", \"social_comp\", \"social_comp\", \"social_comp\", \"social_comp\", \"social_comp\", \"social_comp\", \"social_comp\", \"social_comp\", \"social_comp\", \"social_comp\", \"social_comp\", \"social_comp\", \"social_comp\", \"social_comp\", \"social_comp\", \"social_comp\", \"social_comp\", \"social_comp\", \"social_comp\", \"social_comp\", \"social_comp\", \"social_comp\", \"social_comp\", \"social_comp\", \"social_comp\", \"social_comp\", \"social_comp\", \"social_comp\", \"social_comp\", \"social_comp\", \"social_comp\", \"social_comp\", \"social_comp\", \"social_comp\", \"social_comp\", \"social_comp\", \"social_comp\", \"social_comp\", \"social_comp\", \"social_comp\", \"social_comp\", \"social_comp\", \"social_comp\", \"social_comp\", \"social_comp\", \"social_comp\", \"social_comp\", \"social_comp\", \"social_comp\", \"social_comp\", \"social_comp\", \"social_comp\", \"social_comp\", \"social_comp\", \"social_comp\", \"social_comp\", \"social_comp\", \"social_comp\", \"social_comp\", \"social_comp\", \"social_comp\", \"social_comp\", \"social_comp\", \"social_comp\", \"social_comp\", \"social_comp\", \"social_comp\", \"social_comp\", \"social_comp\", \"social_comp\", \"social_comp\", \"social_comp\", \"social_comp\", \"social_comp\", \"social_comp\", \"social_comp\", \"social_comp\", \"social_comp\", \"social_comp\", \"social_comp\", \"social_comp\", \"social_comp\", \"social_comp\", \"social_comp\", \"social_comp\", \"social_comp\", \"social_comp\", \"social_comp\", \"social_comp\", \"social_comp\", \"social_comp\", \"social_comp\", \"social_comp\", \"social_comp\", \"social_comp\", \"social_comp\", \"social_comp\", \"social_comp\", \"social_comp\", \"social_comp\", \"social_comp\", \"social_comp\", \"social_comp\", \"social_comp\", \"social_comp\", \"social_comp\", \"social_comp\", \"social_comp\", \"social_comp\", \"social_comp\", \"social_comp\", \"social_comp\", \"social_comp\", \"social_comp\", \"social_comp\", \"social_comp\", \"social_comp\", \"social_comp\", \"social_comp\", \"social_comp\", \"social_comp\", \"social_comp\", \"social_comp\", \"social_comp\", \"social_comp\", \"social_comp\", \"social_comp\", \"social_comp\", \"social_comp\", \"social_comp\", \"social_comp\", \"social_comp\", \"social_comp\", \"social_comp\", \"social_comp\", \"social_comp\", \"social_comp\", \"social_comp\", \"social_comp\", \"social_comp\", \"social_comp\", \"social_comp\", \"social_comp\", \"social_comp\", \"social_comp\", \"social_comp\", \"social_comp\", \"social_comp\", \"social_comp\", \"social_comp\", \"social_comp\", \"social_comp\", \"social_comp\", \"social_comp\", \"social_comp\", \"social_comp\", \"social_comp\", \"social_comp\", \"social_comp\", \"social_comp\", \"social_comp\", \"social_comp\", \"social_comp\", \"social_comp\", \"social_comp\", \"social_comp\", \"social_comp\", \"social_comp\", \"social_comp\", \"social_comp\", \"social_comp\", \"social_comp\", \"social_comp\", \"social_comp\", \"social_comp\", \"social_comp\", \"social_comp\", \"social_comp\", \"social_comp\", \"social_comp\", \"social_comp\", \"social_comp\", \"social_comp\", \"social_comp\", \"social_comp\", \"social_comp\", \"social_comp\", \"social_comp\", \"social_comp\", \"social_comp\", \"social_comp\", \"social_comp\", \"social_comp\", \"social_comp\", \"social_comp\", \"social_comp\", \"social_comp\", \"social_comp\", \"social_comp\", \"social_comp\", \"social_comp\", \"social_comp\", \"social_comp\", \"social_comp\", \"social_comp\", \"social_comp\", \"social_comp\", \"social_comp\", \"social_comp\", \"social_comp\", \"social_comp\", \"social_comp\", \"social_comp\", \"social_comp\", \"social_comp\", \"social_comp\", \"social_comp\", \"social_comp\", \"social_comp\", \"social_comp\", \"social_comp\", \"social_comp\", \"social_comp\", \"social_comp\", \"social_comp\", \"social_comp\", \"social_comp\", \"social_comp\", \"social_comp\", \"social_comp\", \"social_comp\", \"social_comp\", \"social_comp\", \"social_comp\", \"social_comp\", \"social_comp\", \"social_comp\", \"bored\", \"bored\", \"bored\", \"bored\", \"bored\", \"bored\", \"bored\", \"bored\", \"bored\", \"bored\", \"bored\", \"bored\", \"bored\", \"bored\", \"bored\", \"bored\", \"bored\", \"bored\", \"bored\", \"bored\", \"bored\", \"bored\", \"bored\", \"bored\", \"bored\", \"bored\", \"bored\", \"bored\", \"bored\", \"bored\", \"bored\", \"bored\", \"bored\", \"bored\", \"bored\", \"bored\", \"bored\", \"bored\", \"bored\", \"bored\", \"bored\", \"bored\", \"bored\", \"bored\", \"bored\", \"bored\", \"bored\", \"bored\", \"bored\", \"bored\", \"bored\", \"bored\", \"bored\", \"bored\", \"bored\", \"bored\", \"bored\", \"bored\", \"bored\", \"bored\", \"bored\", \"bored\", \"bored\", \"bored\", \"bored\", \"bored\", \"bored\", \"bored\", \"bored\", \"bored\", \"bored\", \"bored\", \"bored\", \"bored\", \"bored\", \"bored\", \"bored\", \"bored\", \"bored\", \"bored\", \"bored\", \"bored\", \"bored\", \"bored\", \"bored\", \"bored\", \"bored\", \"bored\", \"bored\", \"bored\", \"bored\", \"bored\", \"bored\", \"bored\", \"bored\", \"bored\", \"bored\", \"bored\", \"bored\", \"bored\", \"bored\", \"bored\", \"bored\", \"bored\", \"bored\", \"bored\", \"bored\", \"bored\", \"bored\", \"bored\", \"bored\", \"bored\", \"bored\", \"bored\", \"bored\", \"bored\", \"bored\", \"bored\", \"bored\", \"bored\", \"bored\", \"bored\", \"bored\", \"bored\", \"bored\", \"bored\", \"bored\", \"bored\", \"bored\", \"bored\", \"bored\", \"bored\", \"bored\", \"bored\", \"bored\", \"bored\", \"bored\", \"bored\", \"bored\", \"bored\", \"bored\", \"bored\", \"bored\", \"bored\", \"bored\", \"bored\", \"bored\", \"bored\", \"bored\", \"bored\", \"bored\", \"bored\", \"bored\", \"bored\", \"bored\", \"bored\", \"bored\", \"bored\", \"bored\", \"bored\", \"bored\", \"bored\", \"bored\", \"bored\", \"bored\", \"bored\", \"bored\", \"bored\", \"bored\", \"bored\", \"bored\", \"bored\", \"bored\", \"bored\", \"bored\", \"bored\", \"bored\", \"bored\", \"bored\", \"bored\", \"bored\", \"bored\", \"bored\", \"bored\", \"bored\", \"bored\", \"bored\", \"bored\", \"bored\", \"bored\", \"bored\", \"bored\", \"bored\", \"bored\", \"bored\", \"bored\", \"bored\", \"bored\", \"bored\", \"bored\", \"reading_int\", \"reading_int\", \"reading_int\", \"reading_int\", \"reading_int\", \"reading_int\", \"reading_int\", \"reading_int\", \"reading_int\", \"reading_int\", \"reading_int\", \"reading_int\", \"reading_int\", \"reading_int\", \"reading_int\", \"reading_int\", \"reading_int\", \"reading_int\", \"reading_int\", \"reading_int\", \"reading_int\", \"reading_int\", \"reading_int\", \"reading_int\", \"reading_int\", \"reading_int\", \"reading_int\", \"reading_int\", \"reading_int\", \"reading_int\", \"reading_int\", \"reading_int\", \"reading_int\", \"reading_int\", \"reading_int\", \"reading_int\", \"reading_int\", \"reading_int\", \"reading_int\", \"reading_int\", \"reading_int\", \"reading_int\", \"reading_int\", \"reading_int\", \"reading_int\", \"reading_int\", \"reading_int\", \"reading_int\", \"reading_int\", \"reading_int\", \"reading_int\", \"reading_int\", \"reading_int\", \"reading_int\", \"reading_int\", \"reading_int\", \"reading_int\", \"reading_int\", \"reading_int\", \"reading_int\", \"reading_int\", \"reading_int\", \"reading_int\", \"reading_int\", \"reading_int\", \"reading_int\", \"reading_int\", \"reading_int\", \"reading_int\", \"reading_int\", \"reading_int\", \"reading_int\", \"reading_int\", \"reading_int\", \"reading_int\", \"reading_int\", \"reading_int\", \"reading_int\", \"reading_int\", \"reading_int\", \"reading_int\", \"reading_int\", \"reading_int\", \"reading_int\", \"reading_int\", \"reading_int\", \"reading_int\", \"reading_int\", \"reading_int\", \"reading_int\", \"reading_int\", \"reading_int\", \"reading_int\", \"reading_int\", \"reading_int\", \"reading_int\", \"reading_int\", \"reading_int\", \"reading_int\", \"reading_int\", \"reading_int\", \"reading_int\", \"reading_int\", \"reading_int\", \"reading_int\", \"reading_int\", \"reading_int\", \"reading_int\", \"reading_int\", \"reading_int\", \"reading_int\", \"reading_int\", \"reading_int\", \"reading_int\", \"reading_int\", \"reading_int\", \"reading_int\", \"reading_int\", \"reading_int\", \"reading_int\", \"reading_int\", \"reading_int\", \"reading_int\", \"reading_int\", \"reading_int\", \"reading_int\", \"reading_int\", \"reading_int\", \"reading_int\", \"reading_int\", \"reading_int\", \"reading_int\", \"reading_int\", \"reading_int\", \"reading_int\", \"reading_int\", \"reading_int\", \"reading_int\", \"reading_int\", \"reading_int\", \"reading_int\", \"reading_int\", \"reading_int\", \"reading_int\", \"reading_int\", \"reading_int\", \"reading_int\", \"reading_int\", \"reading_int\", \"reading_int\", \"reading_int\", \"reading_int\", \"reading_int\", \"reading_int\", \"reading_int\", \"reading_int\", \"reading_int\", \"reading_int\", \"reading_int\", \"reading_int\", \"reading_int\", \"reading_int\", \"reading_int\", \"reading_int\", \"reading_int\", \"reading_int\", \"reading_int\", \"reading_int\", \"reading_int\", \"reading_int\", \"reading_int\", \"reading_int\", \"reading_int\", \"reading_int\", \"reading_int\", \"reading_int\", \"reading_int\", \"reading_int\", \"reading_int\", \"reading_int\", \"reading_int\", \"reading_int\", \"reading_int\", \"reading_int\", \"reading_int\", \"reading_int\", \"reading_int\", \"reading_int\", \"reading_int\", \"reading_int\", \"reading_int\", \"reading_int\", \"reading_int\", \"reading_int\", \"reading_int\", \"reading_int\", \"reading_int\", \"reading_int\", \"reading_int\", \"reading_int\", \"reading_int\", \"reading_int\", \"reading_int\", \"reading_int\", \"reading_int\", \"reading_int\", \"reading_int\", \"reading_int\", \"reading_int\", \"reading_int\", \"reading_int\", \"reading_int\", \"reading_int\", \"reading_int\", \"reading_int\", \"reading_int\", \"reading_int\", \"reading_int\", \"reading_int\", \"reading_int\", \"reading_int\", \"reading_int\", \"reading_int\", \"reading_int\", \"reading_int\", \"reading_int\", \"reading_int\", \"reading_int\", \"reading_int\", \"reading_int\", \"reading_int\", \"reading_int\", \"reading_int\", \"reading_int\", \"reading_int\", \"reading_int\", \"reading_int\", \"reading_int\", \"reading_int\", \"reading_int\", \"reading_int\", \"reading_int\", \"reading_int\", \"reading_int\", \"reading_int\", \"reading_int\", \"reading_int\", \"reading_int\", \"reading_int\", \"reading_int\", \"reading_int\", \"reading_int\", \"reading_int\", \"reading_int\", \"reading_int\", \"reading_int\", \"reading_int\", \"reading_int\", \"reading_int\", \"reading_int\", \"reading_int\", \"reading_int\", \"reading_int\", \"reading_int\", \"reading_int\", \"reading_int\", \"reading_int\", \"reading_int\", \"reading_int\", \"reading_int\", \"reading_int\", \"reading_int\", \"reading_int\", \"reading_int\", \"reading_int\", \"reading_int\", \"reading_int\", \"reading_int\", \"reading_int\", \"reading_int\", \"reading_int\", \"reading_int\", \"reading_int\", \"reading_int\", \"reading_int\", \"reading_int\", \"reading_int\", \"reading_int\", \"reading_int\", \"reading_int\", \"reading_int\", \"reading_int\", \"reading_int\", \"hyperfocus\", \"hyperfocus\", \"hyperfocus\", \"hyperfocus\", \"hyperfocus\", \"hyperfocus\", \"hyperfocus\", \"hyperfocus\", \"hyperfocus\", \"hyperfocus\", \"hyperfocus\", \"hyperfocus\", \"hyperfocus\", \"hyperfocus\", \"hyperfocus\", \"hyperfocus\", \"hyperfocus\", \"hyperfocus\", \"hyperfocus\", \"hyperfocus\", \"hyperfocus\", \"hyperfocus\", \"hyperfocus\", \"hyperfocus\", \"hyperfocus\", \"hyperfocus\", \"hyperfocus\", \"hyperfocus\", \"hyperfocus\", \"hyperfocus\", \"hyperfocus\", \"hyperfocus\", \"hyperfocus\", \"hyperfocus\", \"hyperfocus\", \"hyperfocus\", \"hyperfocus\", \"hyperfocus\", \"hyperfocus\", \"hyperfocus\", \"hyperfocus\", \"hyperfocus\", \"hyperfocus\", \"hyperfocus\", \"hyperfocus\", \"hyperfocus\", \"hyperfocus\", \"hyperfocus\", \"hyperfocus\", \"hyperfocus\", \"hyperfocus\", \"hyperfocus\", \"hyperfocus\", \"hyperfocus\", \"hyperfocus\", \"hyperfocus\", \"hyperfocus\", \"hyperfocus\", \"hyperfocus\", \"hyperfocus\", \"hyperfocus\", \"hyperfocus\", \"hyperfocus\", \"hyperfocus\", \"hyperfocus\", \"hyperfocus\", \"hyperfocus\", \"hyperfocus\", \"hyperfocus\", \"hyperfocus\", \"hyperfocus\", \"hyperfocus\", \"hyperfocus\", \"hyperfocus\", \"hyperfocus\", \"hyperfocus\", \"hyperfocus\", \"hyperfocus\", \"hyperfocus\", \"hyperfocus\", \"hyperfocus\", \"hyperfocus\", \"hyperfocus\", \"hyperfocus\", \"hyperfocus\", \"hyperfocus\", \"hyperfocus\", \"hyperfocus\", \"hyperfocus\", \"hyperfocus\", \"hyperfocus\", \"hyperfocus\", \"hyperfocus\", \"hyperfocus\", \"hyperfocus\", \"hyperfocus\", \"hyperfocus\", \"hyperfocus\", \"hyperfocus\", \"hyperfocus\", \"hyperfocus\", \"hyperfocus\", \"hyperfocus\", \"hyperfocus\", \"hyperfocus\", \"hyperfocus\", \"hyperfocus\", \"hyperfocus\", \"hyperfocus\", \"hyperfocus\", \"hyperfocus\", \"hyperfocus\", \"hyperfocus\", \"hyperfocus\", \"hyperfocus\", \"hyperfocus\", \"hyperfocus\", \"hyperfocus\", \"hyperfocus\", \"hyperfocus\", \"hyperfocus\", \"hyperfocus\", \"hyperfocus\", \"hyperfocus\", \"hyperfocus\", \"hyperfocus\", \"hyperfocus\", \"hyperfocus\", \"hyperfocus\", \"hyperfocus\", \"hyperfocus\", \"hyperfocus\", \"hyperfocus\", \"hyperfocus\", \"hyperfocus\", \"hyperfocus\", \"hyperfocus\", \"hyperfocus\", \"hyperfocus\", \"hyperfocus\", \"hyperfocus\", \"hyperfocus\", \"hyperfocus\", \"hyperfocus\", \"hyperfocus\", \"hyperfocus\", \"hyperfocus\", \"hyperfocus\", \"hyperfocus\", \"hyperfocus\", \"hyperfocus\", \"hyperfocus\", \"hyperfocus\", \"hyperfocus\", \"hyperfocus\", \"hyperfocus\", \"hyperfocus\", \"hyperfocus\", \"hyperfocus\", \"hyperfocus\", \"hyperfocus\", \"hyperfocus\", \"hyperfocus\", \"hyperfocus\", \"hyperfocus\", \"hyperfocus\", \"hyperfocus\", \"hyperfocus\", \"hyperfocus\", \"hyperfocus\", \"hyperfocus\", \"hyperfocus\", \"hyperfocus\", \"hyperfocus\", \"hyperfocus\", \"hyperfocus\", \"hyperfocus\", \"hyperfocus\", \"hyperfocus\", \"hyperfocus\", \"hyperfocus\", \"hyperfocus\", \"hyperfocus\", \"hyperfocus\", \"hyperfocus\", \"hyperfocus\", \"hyperfocus\", \"hyperfocus\", \"hyperfocus\", \"hyperfocus\", \"hyperfocus\", \"hyperfocus\", \"hyperfocus\", \"hyperfocus\", \"hyperfocus\", \"hyperfocus\", \"hyperfocus\", \"hyperfocus\", \"hyperfocus\", \"hyperfocus\", \"hyperfocus\", \"hyperfocus\", \"hyperfocus\", \"hyperfocus\", \"hyperfocus\", \"hyperfocus\", \"hyperfocus\", \"hyperfocus\", \"hyperfocus\", \"hyperfocus\", \"hyperfocus\", \"hyperfocus\", \"hyperfocus\", \"hyperfocus\", \"hyperfocus\", \"hyperfocus\", \"hyperfocus\", \"hyperfocus\", \"hyperfocus\", \"hyperfocus\", \"hyperfocus\", \"hyperfocus\", \"hyperfocus\", \"hyperfocus\", \"hyperfocus\", \"hyperfocus\", \"hyperfocus\", \"hyperfocus\", \"hyperfocus\", \"hyperfocus\", \"hyperfocus\", \"hyperfocus\", \"hyperfocus\", \"hyperfocus\", \"hyperfocus\", \"hyperfocus\", \"hyperfocus\", \"hyperfocus\", \"hyperfocus\", \"hyperfocus\", \"hyperfocus\", \"hyperfocus\", \"hyperfocus\", \"hyperfocus\", \"hyperfocus\", \"hyperfocus\", \"hyperfocus\", \"hyperfocus\", \"hyperfocus\", \"hyperfocus\", \"hyperfocus\", \"hyperfocus\", \"hyperfocus\", \"hyperfocus\", \"hyperfocus\", \"hyperfocus\", \"hyperfocus\", \"hyperfocus\", \"hyperfocus\", \"hyperfocus\", \"hyperfocus\", \"hyperfocus\", \"hyperfocus\", \"hyperfocus\", \"hyperfocus\", \"hyperfocus\", \"hyperfocus\", \"hyperfocus\", \"hyperfocus\", \"hyperfocus\", \"hyperfocus\", \"hyperfocus\", \"hyperfocus\", \"hyperfocus\", \"hyperfocus\", \"hyperfocus\", \"hyperfocus\", \"hyperfocus\", \"hyperfocus\", \"hyperfocus\", \"hyperfocus\", \"hyperfocus\", \"hyperfocus\", \"hyperfocus\", \"hyperfocus\", \"hyperfocus\", \"hyperfocus\", \"hyperfocus\", \"hyperfocus\", \"hyperfocus\", \"hyperfocus\", \"hyperfocus\", \"hyperfocus\", \"hyperfocus\", \"hyperfocus\", \"hyperfocus\", \"hyperfocus\", \"hyperfocus\", \"hyperfocus\", \"hyperfocus\", \"hyperfocus\", \"hyperfocus\", \"hyperfocus\", \"hyperfocus\", \"hyperfocus\", \"hyperfocus\", \"hyperfocus\", \"hyperfocus\", \"hyperfocus\", \"hyperfocus\", \"hyperfocus\", \"hyperfocus\", \"hyperfocus\", \"hyperfocus\", \"hyperfocus\", \"hyperfocus\", \"hyperfocus\", \"hyperfocus\", \"hyperfocus\", \"hyperfocus\", \"hyperfocus\", \"hyperfocus\", \"hyperfocus\", \"hyperfocus\", \"hyperfocus\", \"hyperfocus\", \"hyperfocus\", \"hyperfocus\", \"hyperfocus\", \"hyperfocus\", \"hyperfocus\", \"hyperfocus\", \"hyperfocus\", \"hyperfocus\", \"hyperfocus\", \"hyperfocus\", \"hyperfocus\", \"hyperfocus\", \"hyperfocus\", \"hyperfocus\", \"hyperfocus\", \"hyperfocus\", \"hyperfocus\", \"hyperfocus\", \"hyperfocus\", \"hyperfocus\", \"hyperfocus\", \"hyperfocus\", \"hyperfocus\", \"hyperfocus\", \"hyperfocus\", \"hyperfocus\", \"hyperfocus\", \"hyperfocus\", \"hyperfocus\", \"hyperfocus\", \"hyperfocus\", \"hyperfocus\", \"hyperfocus\", \"hyperfocus\", \"hyperfocus\", \"hyperfocus\", \"hyperfocus\", \"hyperfocus\", \"hyperfocus\", \"hyperfocus\", \"hyperfocus\", \"hyperfocus\", \"hyperfocus\", \"hyperfocus\", \"hyperfocus\", \"hyperfocus\", \"hyperfocus\", \"hyperfocus\", \"hyperfocus\", \"hyperfocus\", \"hyperfocus\", \"hyperfocus\", \"hyperfocus\", \"hyperfocus\", \"hyperfocus\", \"hyperfocus\", \"hyperfocus\", \"hyperfocus\", \"hyperfocus\", \"hyperfocus\", \"hyperfocus\", \"hyperfocus\", \"hyperfocus\", \"hyperfocus\", \"hyperfocus\", \"hyperfocus\", \"hyperfocus\", \"hyperfocus\", \"hyperfocus\", \"hyperfocus\", \"hyperfocus\", \"hyperfocus\", \"hyperfocus\", \"hyperfocus\", \"hyperfocus\", \"hyperfocus\", \"hyperfocus\", \"hyperfocus\", \"hyperfocus\", \"hyperfocus\", \"hyperfocus\", \"hyperfocus\", \"hyperfocus\", \"hyperfocus\", \"hyperfocus\", \"hyperfocus\", \"hyperfocus\", \"hyperfocus\", \"hyperfocus\", \"hyperfocus\", \"hyperfocus\", \"hyperfocus\", \"hyperfocus\", \"hyperfocus\", \"hyperfocus\", \"hyperfocus\", \"hyperfocus\", \"hyperfocus\", \"hyperfocus\", \"hyperfocus\", \"hyperfocus\", \"hyperfocus\", \"hyperfocus\", \"hyperfocus\", \"hyperfocus\", \"hyperfocus\", \"hyperfocus\", \"hyperfocus\", \"hyperfocus\", \"hyperfocus\", \"hyperfocus\", \"hyperfocus\", \"hyperfocus\", \"hyperfocus\", \"hyperfocus\", \"hyperfocus\", \"hyperfocus\", \"hyperfocus\", \"hyperfocus\", \"hyperfocus\", \"hyperfocus\", \"hyperfocus\", \"hyperfocus\", \"hyperfocus\", \"hyperfocus\", \"hyperfocus\", \"hyperfocus\", \"hyperfocus\", \"hyperfocus\", \"hyperfocus\", \"hyperfocus\", \"read_faces\", \"read_faces\", \"read_faces\", \"read_faces\", \"read_faces\", \"read_faces\", \"read_faces\", \"read_faces\", \"read_faces\", \"read_faces\", \"read_faces\", \"read_faces\", \"read_faces\", \"read_faces\", \"read_faces\", \"read_faces\", \"read_faces\", \"read_faces\", \"read_faces\", \"read_faces\", \"read_faces\", \"read_faces\", \"read_faces\", \"read_faces\", \"read_faces\", \"read_faces\", \"read_faces\", \"read_faces\", \"read_faces\", \"read_faces\", \"read_faces\", \"read_faces\", \"read_faces\", \"read_faces\", \"read_faces\", \"read_faces\", \"read_faces\", \"read_faces\", \"read_faces\", \"read_faces\", \"read_faces\", \"read_faces\", \"read_faces\", \"read_faces\", \"read_faces\", \"read_faces\", \"read_faces\", \"read_faces\", \"read_faces\", \"read_faces\", \"read_faces\", \"read_faces\", \"read_faces\", \"read_faces\", \"read_faces\", \"read_faces\", \"read_faces\", \"read_faces\", \"read_faces\", \"read_faces\", \"read_faces\", \"read_faces\", \"read_faces\", \"read_faces\", \"read_faces\", \"read_faces\", \"read_faces\", \"read_faces\", \"read_faces\", \"read_faces\", \"read_faces\", \"read_faces\", \"read_faces\", \"read_faces\", \"read_faces\", \"read_faces\", \"read_faces\", \"read_faces\", \"read_faces\", \"read_faces\", \"read_faces\", \"read_faces\", \"read_faces\", \"read_faces\", \"read_faces\", \"read_faces\", \"read_faces\", \"read_faces\", \"read_faces\", \"read_faces\", \"read_faces\", \"read_faces\", \"read_faces\", \"read_faces\", \"read_faces\", \"read_faces\", \"read_faces\", \"read_faces\", \"read_faces\", \"read_faces\", \"read_faces\", \"read_faces\", \"read_faces\", \"read_faces\", \"read_faces\", \"read_faces\", \"read_faces\", \"read_faces\", \"read_faces\", \"read_faces\", \"read_faces\", \"read_faces\", \"read_faces\", \"read_faces\", \"read_faces\", \"read_faces\", \"read_faces\", \"read_faces\", \"read_faces\", \"read_faces\", \"read_faces\", \"read_faces\", \"read_faces\", \"read_faces\", \"read_faces\", \"read_faces\", \"read_faces\", \"read_faces\", \"read_faces\", \"read_faces\", \"read_faces\", \"read_faces\", \"read_faces\", \"read_faces\", \"read_faces\", \"read_faces\", \"read_faces\", \"read_faces\", \"read_faces\", \"read_faces\", \"read_faces\", \"read_faces\", \"read_faces\", \"read_faces\", \"read_faces\", \"read_faces\", \"read_faces\", \"read_faces\", \"read_faces\", \"read_faces\", \"read_faces\", \"read_faces\", \"read_faces\", \"read_faces\", \"read_faces\", \"read_faces\", \"read_faces\", \"read_faces\", \"read_faces\", \"read_faces\", \"read_faces\", \"read_faces\", \"read_faces\", \"read_faces\", \"read_faces\", \"read_faces\", \"read_faces\", \"read_faces\", \"read_faces\", \"read_faces\", \"read_faces\", \"read_faces\", \"read_faces\", \"read_faces\", \"read_faces\", \"read_faces\", \"read_faces\", \"read_faces\", \"read_faces\", \"read_faces\", \"read_faces\", \"read_faces\", \"read_faces\", \"read_faces\", \"read_faces\", \"read_faces\", \"read_faces\", \"read_faces\", \"read_faces\", \"read_faces\", \"read_faces\", \"read_faces\", \"read_faces\", \"read_faces\", \"read_faces\", \"read_faces\", \"read_faces\", \"read_faces\", \"read_faces\", \"read_faces\", \"read_faces\", \"read_faces\", \"read_faces\", \"read_faces\", \"read_faces\", \"read_faces\", \"read_faces\", \"read_faces\", \"read_faces\", \"read_faces\", \"read_faces\", \"read_faces\", \"read_faces\", \"read_faces\", \"read_faces\", \"read_faces\", \"read_faces\", \"read_faces\", \"read_faces\", \"read_faces\", \"read_faces\", \"read_faces\", \"read_faces\", \"read_faces\", \"read_faces\", \"read_faces\", \"read_faces\", \"read_faces\", \"intentions\", \"intentions\", \"intentions\", \"intentions\", \"intentions\", \"intentions\", \"intentions\", \"intentions\", \"intentions\", \"intentions\", \"intentions\", \"intentions\", \"intentions\", \"intentions\", \"intentions\", \"intentions\", \"intentions\", \"intentions\", \"intentions\", \"intentions\", \"intentions\", \"intentions\", \"intentions\", \"intentions\", \"intentions\", \"intentions\", \"intentions\", \"intentions\", \"intentions\", \"intentions\", \"intentions\", \"intentions\", \"intentions\", \"intentions\", \"intentions\", \"intentions\", \"intentions\", \"intentions\", \"intentions\", \"intentions\", \"intentions\", \"intentions\", \"intentions\", \"intentions\", \"intentions\", \"intentions\", \"intentions\", \"intentions\", \"intentions\", \"intentions\", \"intentions\", \"intentions\", \"intentions\", \"intentions\", \"intentions\", \"intentions\", \"intentions\", \"intentions\", \"intentions\", \"intentions\", \"intentions\", \"intentions\", \"intentions\", \"intentions\", \"intentions\", \"intentions\", \"intentions\", \"intentions\", \"intentions\", \"intentions\", \"intentions\", \"intentions\", \"intentions\", \"intentions\", \"intentions\", \"intentions\", \"intentions\", \"intentions\", \"intentions\", \"intentions\", \"intentions\", \"intentions\", \"intentions\", \"intentions\", \"intentions\", \"intentions\", \"intentions\", \"intentions\", \"intentions\", \"intentions\", \"intentions\", \"intentions\", \"intentions\", \"intentions\", \"intentions\", \"intentions\", \"intentions\", \"intentions\", \"intentions\", \"intentions\", \"intentions\", \"intentions\", \"intentions\", \"intentions\", \"intentions\", \"intentions\", \"intentions\", \"intentions\", \"intentions\", \"intentions\", \"intentions\", \"intentions\", \"intentions\", \"intentions\", \"intentions\", \"intentions\", \"intentions\", \"intentions\", \"intentions\", \"intentions\", \"intentions\", \"intentions\", \"intentions\", \"intentions\", \"intentions\", \"intentions\", \"intentions\", \"intentions\", \"intentions\", \"intentions\", \"intentions\", \"intentions\", \"intentions\", \"intentions\", \"intentions\", \"intentions\", \"intentions\", \"intentions\", \"intentions\", \"intentions\", \"intentions\", \"intentions\", \"intentions\", \"intentions\", \"intentions\", \"intentions\", \"intentions\", \"intentions\", \"intentions\", \"intentions\", \"intentions\", \"intentions\", \"intentions\", \"intentions\", \"intentions\", \"intentions\", \"intentions\", \"intentions\", \"intentions\", \"intentions\", \"intentions\", \"intentions\", \"intentions\", \"intentions\", \"intentions\", \"intentions\", \"intentions\", \"intentions\", \"intentions\", \"intentions\", \"intentions\", \"intentions\", \"intentions\", \"intentions\", \"intentions\", \"intentions\", \"intentions\", \"intentions\", \"intentions\", \"intentions\", \"intentions\", \"intentions\", \"intentions\", \"intentions\", \"intentions\", \"intentions\", \"intentions\", \"intentions\", \"intentions\", \"intentions\", \"intentions\", \"intentions\", \"intentions\", \"intentions\", \"intentions\", \"intentions\", \"intentions\", \"intentions\", \"intentions\", \"intentions\", \"intentions\", \"intentions\", \"intentions\", \"intentions\", \"intentions\", \"intentions\", \"intentions\", \"intentions\", \"intentions\", \"intentions\", \"intentions\", \"intentions\", \"intentions\", \"intentions\", \"intentions\", \"intentions\", \"intentions\", \"intentions\", \"intentions\", \"intentions\", \"intentions\", \"intentions\", \"intentions\", \"intentions\", \"intentions\", \"intentions\", \"intentions\", \"intentions\", \"intentions\", \"intentions\", \"intentions\", \"intentions\", \"intentions\", \"intentions\", \"intentions\", \"intentions\", \"intentions\", \"intentions\", \"intentions\", \"intentions\", \"intentions\", \"intentions\", \"intentions\", \"intentions\", \"intentions\", \"intentions\", \"intentions\", \"intentions\", \"intentions\", \"intentions\", \"intentions\", \"intentions\", \"intentions\", \"intentions\", \"intentions\", \"intentions\", \"intentions\", \"intentions\", \"intentions\", \"intentions\", \"intentions\", \"intentions\", \"intentions\", \"intentions\", \"intentions\", \"intentions\", \"intentions\", \"intentions\", \"intentions\", \"intentions\", \"intentions\", \"intentions\", \"intentions\", \"intentions\", \"intentions\", \"intentions\", \"intentions\", \"intentions\", \"intentions\", \"intentions\", \"intentions\", \"intentions\", \"intentions\", \"intentions\", \"intentions\", \"intentions\", \"intentions\", \"intentions\", \"intentions\", \"intentions\", \"intentions\", \"intentions\", \"intentions\", \"intentions\", \"intentions\", \"intentions\", \"intentions\", \"intentions\", \"intentions\", \"intentions\", \"intentions\", \"intentions\", \"intentions\", \"intentions\", \"intentions\", \"intentions\", \"intentions\", \"intentions\", \"intentions\", \"intentions\", \"intentions\", \"intentions\", \"intentions\", \"intentions\", \"intentions\", \"intentions\", \"intentions\", \"intentions\", \"intentions\", \"intentions\", \"intentions\", \"intentions\", \"intentions\", \"intentions\", \"intentions\", \"intentions\", \"intentions\", \"intentions\", \"intentions\", \"intentions\", \"intentions\", \"intentions\", \"intentions\", \"intentions\", \"intentions\", \"intentions\", \"intentions\", \"intentions\", \"intentions\", \"intentions\", \"intentions\", \"intentions\", \"intentions\", \"intentions\", \"intentions\", \"intentions\", \"intentions\", \"intentions\", \"intentions\", \"intentions\", \"intentions\", \"intentions\", \"intentions\", \"intentions\", \"intentions\", \"intentions\", \"intentions\", \"intentions\", \"intentions\", \"intentions\", \"intentions\", \"intentions\", \"intentions\", \"intentions\", \"intentions\", \"intentions\", \"intentions\", \"intentions\", \"intentions\", \"intentions\", \"intentions\", \"intentions\", \"intentions\", \"intentions\", \"intentions\", \"intentions\", \"intentions\", \"intentions\", \"intentions\", \"intentions\", \"intentions\", \"intentions\", \"intentions\", \"intentions\", \"intentions\", \"intentions\", \"intentions\", \"intentions\", \"intentions\", \"intentions\", \"intentions\", \"intentions\", \"intentions\", \"intentions\", \"intentions\", \"intentions\", \"intentions\", \"intentions\", \"intentions\", \"intentions\", \"intentions\", \"intentions\", \"intentions\"], \"xaxis\": \"x\", \"yaxis\": \"y\"}],\n",
              "                        {\"barmode\": \"relative\", \"height\": 600, \"legend\": {\"tracegroupgap\": 0}, \"template\": {\"data\": {\"bar\": [{\"error_x\": {\"color\": \"#2a3f5f\"}, \"error_y\": {\"color\": \"#2a3f5f\"}, \"marker\": {\"line\": {\"color\": \"#E5ECF6\", \"width\": 0.5}}, \"type\": \"bar\"}], \"barpolar\": [{\"marker\": {\"line\": {\"color\": \"#E5ECF6\", \"width\": 0.5}}, \"type\": \"barpolar\"}], \"carpet\": [{\"aaxis\": {\"endlinecolor\": \"#2a3f5f\", \"gridcolor\": \"white\", \"linecolor\": \"white\", \"minorgridcolor\": \"white\", \"startlinecolor\": \"#2a3f5f\"}, \"baxis\": {\"endlinecolor\": \"#2a3f5f\", \"gridcolor\": \"white\", \"linecolor\": \"white\", \"minorgridcolor\": \"white\", \"startlinecolor\": \"#2a3f5f\"}, \"type\": \"carpet\"}], \"choropleth\": [{\"colorbar\": {\"outlinewidth\": 0, \"ticks\": \"\"}, \"type\": \"choropleth\"}], \"contour\": [{\"colorbar\": {\"outlinewidth\": 0, \"ticks\": \"\"}, \"colorscale\": [[0.0, \"#0d0887\"], [0.1111111111111111, \"#46039f\"], [0.2222222222222222, \"#7201a8\"], [0.3333333333333333, \"#9c179e\"], [0.4444444444444444, \"#bd3786\"], [0.5555555555555556, \"#d8576b\"], [0.6666666666666666, \"#ed7953\"], [0.7777777777777778, \"#fb9f3a\"], [0.8888888888888888, \"#fdca26\"], [1.0, \"#f0f921\"]], \"type\": \"contour\"}], \"contourcarpet\": [{\"colorbar\": {\"outlinewidth\": 0, \"ticks\": \"\"}, \"type\": \"contourcarpet\"}], \"heatmap\": [{\"colorbar\": {\"outlinewidth\": 0, \"ticks\": \"\"}, \"colorscale\": [[0.0, \"#0d0887\"], [0.1111111111111111, \"#46039f\"], [0.2222222222222222, \"#7201a8\"], [0.3333333333333333, \"#9c179e\"], [0.4444444444444444, \"#bd3786\"], [0.5555555555555556, \"#d8576b\"], [0.6666666666666666, \"#ed7953\"], [0.7777777777777778, \"#fb9f3a\"], [0.8888888888888888, \"#fdca26\"], [1.0, \"#f0f921\"]], \"type\": \"heatmap\"}], \"heatmapgl\": [{\"colorbar\": {\"outlinewidth\": 0, \"ticks\": \"\"}, \"colorscale\": [[0.0, \"#0d0887\"], [0.1111111111111111, \"#46039f\"], [0.2222222222222222, \"#7201a8\"], [0.3333333333333333, \"#9c179e\"], [0.4444444444444444, \"#bd3786\"], [0.5555555555555556, \"#d8576b\"], [0.6666666666666666, \"#ed7953\"], [0.7777777777777778, \"#fb9f3a\"], [0.8888888888888888, \"#fdca26\"], [1.0, \"#f0f921\"]], \"type\": \"heatmapgl\"}], \"histogram\": [{\"marker\": {\"colorbar\": {\"outlinewidth\": 0, \"ticks\": \"\"}}, \"type\": \"histogram\"}], \"histogram2d\": [{\"colorbar\": {\"outlinewidth\": 0, \"ticks\": \"\"}, \"colorscale\": [[0.0, \"#0d0887\"], [0.1111111111111111, \"#46039f\"], [0.2222222222222222, \"#7201a8\"], [0.3333333333333333, \"#9c179e\"], [0.4444444444444444, \"#bd3786\"], [0.5555555555555556, \"#d8576b\"], [0.6666666666666666, \"#ed7953\"], [0.7777777777777778, \"#fb9f3a\"], [0.8888888888888888, \"#fdca26\"], [1.0, \"#f0f921\"]], \"type\": \"histogram2d\"}], \"histogram2dcontour\": [{\"colorbar\": {\"outlinewidth\": 0, \"ticks\": \"\"}, \"colorscale\": [[0.0, \"#0d0887\"], [0.1111111111111111, \"#46039f\"], [0.2222222222222222, \"#7201a8\"], [0.3333333333333333, \"#9c179e\"], [0.4444444444444444, \"#bd3786\"], [0.5555555555555556, \"#d8576b\"], [0.6666666666666666, \"#ed7953\"], [0.7777777777777778, \"#fb9f3a\"], [0.8888888888888888, \"#fdca26\"], [1.0, \"#f0f921\"]], \"type\": \"histogram2dcontour\"}], \"mesh3d\": [{\"colorbar\": {\"outlinewidth\": 0, \"ticks\": \"\"}, \"type\": \"mesh3d\"}], \"parcoords\": [{\"line\": {\"colorbar\": {\"outlinewidth\": 0, \"ticks\": \"\"}}, \"type\": \"parcoords\"}], \"scatter\": [{\"marker\": {\"colorbar\": {\"outlinewidth\": 0, \"ticks\": \"\"}}, \"type\": \"scatter\"}], \"scatter3d\": [{\"line\": {\"colorbar\": {\"outlinewidth\": 0, \"ticks\": \"\"}}, \"marker\": {\"colorbar\": {\"outlinewidth\": 0, \"ticks\": \"\"}}, \"type\": \"scatter3d\"}], \"scattercarpet\": [{\"marker\": {\"colorbar\": {\"outlinewidth\": 0, \"ticks\": \"\"}}, \"type\": \"scattercarpet\"}], \"scattergeo\": [{\"marker\": {\"colorbar\": {\"outlinewidth\": 0, \"ticks\": \"\"}}, \"type\": \"scattergeo\"}], \"scattergl\": [{\"marker\": {\"colorbar\": {\"outlinewidth\": 0, \"ticks\": \"\"}}, \"type\": \"scattergl\"}], \"scattermapbox\": [{\"marker\": {\"colorbar\": {\"outlinewidth\": 0, \"ticks\": \"\"}}, \"type\": \"scattermapbox\"}], \"scatterpolar\": [{\"marker\": {\"colorbar\": {\"outlinewidth\": 0, \"ticks\": \"\"}}, \"type\": \"scatterpolar\"}], \"scatterpolargl\": [{\"marker\": {\"colorbar\": {\"outlinewidth\": 0, \"ticks\": \"\"}}, \"type\": \"scatterpolargl\"}], \"scatterternary\": [{\"marker\": {\"colorbar\": {\"outlinewidth\": 0, \"ticks\": \"\"}}, \"type\": \"scatterternary\"}], \"surface\": [{\"colorbar\": {\"outlinewidth\": 0, \"ticks\": \"\"}, \"colorscale\": [[0.0, \"#0d0887\"], [0.1111111111111111, \"#46039f\"], [0.2222222222222222, \"#7201a8\"], [0.3333333333333333, \"#9c179e\"], [0.4444444444444444, \"#bd3786\"], [0.5555555555555556, \"#d8576b\"], [0.6666666666666666, \"#ed7953\"], [0.7777777777777778, \"#fb9f3a\"], [0.8888888888888888, \"#fdca26\"], [1.0, \"#f0f921\"]], \"type\": \"surface\"}], \"table\": [{\"cells\": {\"fill\": {\"color\": \"#EBF0F8\"}, \"line\": {\"color\": \"white\"}}, \"header\": {\"fill\": {\"color\": \"#C8D4E3\"}, \"line\": {\"color\": \"white\"}}, \"type\": \"table\"}]}, \"layout\": {\"annotationdefaults\": {\"arrowcolor\": \"#2a3f5f\", \"arrowhead\": 0, \"arrowwidth\": 1}, \"colorscale\": {\"diverging\": [[0, \"#8e0152\"], [0.1, \"#c51b7d\"], [0.2, \"#de77ae\"], [0.3, \"#f1b6da\"], [0.4, \"#fde0ef\"], [0.5, \"#f7f7f7\"], [0.6, \"#e6f5d0\"], [0.7, \"#b8e186\"], [0.8, \"#7fbc41\"], [0.9, \"#4d9221\"], [1, \"#276419\"]], \"sequential\": [[0.0, \"#0d0887\"], [0.1111111111111111, \"#46039f\"], [0.2222222222222222, \"#7201a8\"], [0.3333333333333333, \"#9c179e\"], [0.4444444444444444, \"#bd3786\"], [0.5555555555555556, \"#d8576b\"], [0.6666666666666666, \"#ed7953\"], [0.7777777777777778, \"#fb9f3a\"], [0.8888888888888888, \"#fdca26\"], [1.0, \"#f0f921\"]], \"sequentialminus\": [[0.0, \"#0d0887\"], [0.1111111111111111, \"#46039f\"], [0.2222222222222222, \"#7201a8\"], [0.3333333333333333, \"#9c179e\"], [0.4444444444444444, \"#bd3786\"], [0.5555555555555556, \"#d8576b\"], [0.6666666666666666, \"#ed7953\"], [0.7777777777777778, \"#fb9f3a\"], [0.8888888888888888, \"#fdca26\"], [1.0, \"#f0f921\"]]}, \"colorway\": [\"#636efa\", \"#EF553B\", \"#00cc96\", \"#ab63fa\", \"#FFA15A\", \"#19d3f3\", \"#FF6692\", \"#B6E880\", \"#FF97FF\", \"#FECB52\"], \"font\": {\"color\": \"#2a3f5f\"}, \"geo\": {\"bgcolor\": \"white\", \"lakecolor\": \"white\", \"landcolor\": \"#E5ECF6\", \"showlakes\": true, \"showland\": true, \"subunitcolor\": \"white\"}, \"hoverlabel\": {\"align\": \"left\"}, \"hovermode\": \"closest\", \"mapbox\": {\"style\": \"light\"}, \"paper_bgcolor\": \"white\", \"plot_bgcolor\": \"#E5ECF6\", \"polar\": {\"angularaxis\": {\"gridcolor\": \"white\", \"linecolor\": \"white\", \"ticks\": \"\"}, \"bgcolor\": \"#E5ECF6\", \"radialaxis\": {\"gridcolor\": \"white\", \"linecolor\": \"white\", \"ticks\": \"\"}}, \"scene\": {\"xaxis\": {\"backgroundcolor\": \"#E5ECF6\", \"gridcolor\": \"white\", \"gridwidth\": 2, \"linecolor\": \"white\", \"showbackground\": true, \"ticks\": \"\", \"zerolinecolor\": \"white\"}, \"yaxis\": {\"backgroundcolor\": \"#E5ECF6\", \"gridcolor\": \"white\", \"gridwidth\": 2, \"linecolor\": \"white\", \"showbackground\": true, \"ticks\": \"\", \"zerolinecolor\": \"white\"}, \"zaxis\": {\"backgroundcolor\": \"#E5ECF6\", \"gridcolor\": \"white\", \"gridwidth\": 2, \"linecolor\": \"white\", \"showbackground\": true, \"ticks\": \"\", \"zerolinecolor\": \"white\"}}, \"shapedefaults\": {\"line\": {\"color\": \"#2a3f5f\"}}, \"ternary\": {\"aaxis\": {\"gridcolor\": \"white\", \"linecolor\": \"white\", \"ticks\": \"\"}, \"baxis\": {\"gridcolor\": \"white\", \"linecolor\": \"white\", \"ticks\": \"\"}, \"bgcolor\": \"#E5ECF6\", \"caxis\": {\"gridcolor\": \"white\", \"linecolor\": \"white\", \"ticks\": \"\"}}, \"title\": {\"x\": 0.05}, \"xaxis\": {\"automargin\": true, \"gridcolor\": \"white\", \"linecolor\": \"white\", \"ticks\": \"\", \"zerolinecolor\": \"white\", \"zerolinewidth\": 2}, \"yaxis\": {\"automargin\": true, \"gridcolor\": \"white\", \"linecolor\": \"white\", \"ticks\": \"\", \"zerolinecolor\": \"white\", \"zerolinewidth\": 2}}}, \"title\": {\"text\": \"% of Patients that said Yes to Questions\"}, \"xaxis\": {\"anchor\": \"y\", \"domain\": [0.0, 0.98], \"title\": {\"text\": \"variable\"}}, \"yaxis\": {\"anchor\": \"x\", \"domain\": [0.0, 1.0], \"title\": {\"text\": \"count\"}}},\n",
              "                        {\"responsive\": true}\n",
              "                    ).then(function(){\n",
              "                            \n",
              "var gd = document.getElementById('78493a42-8e1d-43e9-9aa8-d6413df2aa61');\n",
              "var x = new MutationObserver(function (mutations, observer) {{\n",
              "        var display = window.getComputedStyle(gd).display;\n",
              "        if (!display || display === 'none') {{\n",
              "            console.log([gd, 'removed!']);\n",
              "            Plotly.purge(gd);\n",
              "            observer.disconnect();\n",
              "        }}\n",
              "}});\n",
              "\n",
              "// Listen for the removal of the full notebook cells\n",
              "var notebookContainer = gd.closest('#notebook-container');\n",
              "if (notebookContainer) {{\n",
              "    x.observe(notebookContainer, {childList: true});\n",
              "}}\n",
              "\n",
              "// Listen for the clearing of the current output cell\n",
              "var outputEl = gd.closest('.output');\n",
              "if (outputEl) {{\n",
              "    x.observe(outputEl, {childList: true});\n",
              "}}\n",
              "\n",
              "                        })\n",
              "                };\n",
              "                \n",
              "            </script>\n",
              "        </div>\n",
              "</body>\n",
              "</html>"
            ]
          },
          "metadata": {
            "tags": []
          }
        }
      ]
    },
    {
      "cell_type": "markdown",
      "metadata": {
        "id": "Cc4XZ4mlMmTc",
        "colab_type": "text"
      },
      "source": [
        "Just for clarification before we start diving into the higher view of accuracy scores, I've created a visual/interactive graph to showcase the number of Yes's to the questions. Whats interesting is that `[bored]` had one of the highest correlations amongst the traits studied, while having the smallest percentage of Yes's. \n",
        "\n",
        "*I also want to just make the note here that every Yes is a person saying \"This is hurting my quality of life\" and that matters. While I'm currently focused on autism, the weight of what each observation stands for stays with me. It's important for us to keep digging into the data, looking for answers, and finding ways to reveal them, so we can connect them with people who can help them*\n",
        "\n",
        "\n",
        "---\n",
        "\n",
        "\n",
        "> My goal at this point is to create a visual that best showcases the differences in accuracy score based on the actual class_asd/accuracy_score/k_means accuracy, as well as how patients responded to corr columns `[bored]` and `[read_faces]`. \n",
        "\n",
        ">My thought process at first was to create a plot showcasing the information, but no visual seemed to do it justice. Binary features are hard to showcase in comparison when predicted, I've decided.\n",
        "Additionally, I feel a tabular showcase will best represent the results in a way that would keep the audience more engaged. "
      ]
    },
    {
      "cell_type": "markdown",
      "metadata": {
        "id": "mFwcINHsFFnB",
        "colab_type": "text"
      },
      "source": [
        "#Second Visualization"
      ]
    },
    {
      "cell_type": "code",
      "metadata": {
        "id": "watldYDlKIyf",
        "colab_type": "code",
        "outputId": "6ac5fb12-7299-4524-f0e2-fd25986c5c45",
        "colab": {
          "base_uri": "https://localhost:8080/",
          "height": 204
        }
      },
      "source": [
        "col_names=['Actual Diagnosis', 'Gender']\n",
        "comparison = pd.DataFrame([ y_test, X_test['gender']]).T\n",
        "comparison.columns=col_names\n",
        "#Class/ASD\n",
        "comparison['baseline'] = 0.8579545454545454\n",
        "#Predicted by XGBoost Model\n",
        "comparison['Prediction'] = y_pred\n",
        "#Accuracy Score\n",
        "comparison['accuracy'] = 0.9034090909090909\n",
        "#KMeans Accuracy Score\n",
        "comparison['kmeans'] = 0.908855116514691\n",
        "\n",
        "comparison= comparison[['Actual Diagnosis', 'Prediction', 'Gender', 'baseline', 'accuracy', 'kmeans']]\n",
        "#comparison['pred_result'] = \n",
        "\n",
        "\n",
        "comparison.head()"
      ],
      "execution_count": 0,
      "outputs": [
        {
          "output_type": "execute_result",
          "data": {
            "text/html": [
              "<div>\n",
              "<style scoped>\n",
              "    .dataframe tbody tr th:only-of-type {\n",
              "        vertical-align: middle;\n",
              "    }\n",
              "\n",
              "    .dataframe tbody tr th {\n",
              "        vertical-align: top;\n",
              "    }\n",
              "\n",
              "    .dataframe thead th {\n",
              "        text-align: right;\n",
              "    }\n",
              "</style>\n",
              "<table border=\"1\" class=\"dataframe\">\n",
              "  <thead>\n",
              "    <tr style=\"text-align: right;\">\n",
              "      <th></th>\n",
              "      <th>Actual Diagnosis</th>\n",
              "      <th>Prediction</th>\n",
              "      <th>Gender</th>\n",
              "      <th>baseline</th>\n",
              "      <th>accuracy</th>\n",
              "      <th>kmeans</th>\n",
              "    </tr>\n",
              "  </thead>\n",
              "  <tbody>\n",
              "    <tr>\n",
              "      <th>495</th>\n",
              "      <td>0</td>\n",
              "      <td>0</td>\n",
              "      <td>1</td>\n",
              "      <td>0.857955</td>\n",
              "      <td>0.903409</td>\n",
              "      <td>0.908855</td>\n",
              "    </tr>\n",
              "    <tr>\n",
              "      <th>166</th>\n",
              "      <td>0</td>\n",
              "      <td>0</td>\n",
              "      <td>1</td>\n",
              "      <td>0.857955</td>\n",
              "      <td>0.903409</td>\n",
              "      <td>0.908855</td>\n",
              "    </tr>\n",
              "    <tr>\n",
              "      <th>54</th>\n",
              "      <td>1</td>\n",
              "      <td>1</td>\n",
              "      <td>0</td>\n",
              "      <td>0.857955</td>\n",
              "      <td>0.903409</td>\n",
              "      <td>0.908855</td>\n",
              "    </tr>\n",
              "    <tr>\n",
              "      <th>643</th>\n",
              "      <td>0</td>\n",
              "      <td>0</td>\n",
              "      <td>1</td>\n",
              "      <td>0.857955</td>\n",
              "      <td>0.903409</td>\n",
              "      <td>0.908855</td>\n",
              "    </tr>\n",
              "    <tr>\n",
              "      <th>609</th>\n",
              "      <td>0</td>\n",
              "      <td>0</td>\n",
              "      <td>0</td>\n",
              "      <td>0.857955</td>\n",
              "      <td>0.903409</td>\n",
              "      <td>0.908855</td>\n",
              "    </tr>\n",
              "  </tbody>\n",
              "</table>\n",
              "</div>"
            ],
            "text/plain": [
              "     Actual Diagnosis  Prediction  Gender  baseline  accuracy    kmeans\n",
              "495                 0           0       1  0.857955  0.903409  0.908855\n",
              "166                 0           0       1  0.857955  0.903409  0.908855\n",
              "54                  1           1       0  0.857955  0.903409  0.908855\n",
              "643                 0           0       1  0.857955  0.903409  0.908855\n",
              "609                 0           0       0  0.857955  0.903409  0.908855"
            ]
          },
          "metadata": {
            "tags": []
          },
          "execution_count": 103
        }
      ]
    },
    {
      "cell_type": "markdown",
      "metadata": {
        "id": "mbLl8GjRSkpM",
        "colab_type": "text"
      },
      "source": [
        "This is closer to what I want, but I'd like to make sure it's visually understandable without a guide. I'll make the following goals and then build the code to make it happen:\n",
        "\n",
        "* Change `[Actual Diagnosis]`, `[Prediction]`, and `[Gender]` back from binary to descriptors\n",
        "* Create an Accurate column to clarify Actual/Prediction while still showing actual date. \n",
        "* Change `[index]` to ascending order to better track if you wanted to compare with original dataframe.\n",
        "\n"
      ]
    },
    {
      "cell_type": "markdown",
      "metadata": {
        "id": "fRSs2wfUE_ON",
        "colab_type": "text"
      },
      "source": [
        "###Final Table"
      ]
    },
    {
      "cell_type": "code",
      "metadata": {
        "id": "BYSgLd_5jV1Z",
        "colab_type": "code",
        "colab": {}
      },
      "source": [
        "comparison['Accurate'] = comparison['Actual Diagnosis'] == comparison['Prediction']\n",
        "comparison['Accurate'] = comparison['Accurate'].map({ False:0, True:1 })\n",
        "\n",
        "male_preds = comparison[comparison['Gender'] == 0]\n",
        "male_accurates = male_preds[male_preds['Actual Diagnosis'] == male_preds['Prediction']]\n",
        "male_pct = male_accurates.shape[0] / male_preds.shape[0]\n",
        "female_preds = comparison[comparison['Gender'] == 1]\n",
        "female_accurates = female_preds[female_preds['Actual Diagnosis'] == female_preds['Prediction']]\n",
        "female_pct = female_accurates.shape[0] / female_preds.shape[0]"
      ],
      "execution_count": 0,
      "outputs": []
    },
    {
      "cell_type": "code",
      "metadata": {
        "id": "G_QsOFI2gZTt",
        "colab_type": "code",
        "colab": {}
      },
      "source": [
        "comparison['Actual Diagnosis'] = comparison['Actual Diagnosis'].map({ 0:'No', 1:'Yes' })\n",
        "comparison['Gender'] = comparison['Gender'].map({ 0:'Male', 1:'Female' })\n",
        "comparison['Prediction'] = comparison['Prediction'].map({ 0:'No', 1:'Yes' })\n",
        "comparison['Accurate'] = comparison['Accurate'].map({ 0:'No', 1:'Yes' })\n",
        "comparison= comparison[['Actual Diagnosis', 'Prediction', 'Accurate', 'Gender', 'baseline', 'accuracy', 'kmeans']]"
      ],
      "execution_count": 0,
      "outputs": []
    },
    {
      "cell_type": "code",
      "metadata": {
        "id": "rh2oTslMizox",
        "colab_type": "code",
        "colab": {}
      },
      "source": [
        "final_table=comparison.sort_index(ascending=True)"
      ],
      "execution_count": 0,
      "outputs": []
    },
    {
      "cell_type": "code",
      "metadata": {
        "id": "BXqhkAdVUxwV",
        "colab_type": "code",
        "outputId": "78ff8d40-7b42-4444-bea8-fd8395f6fa16",
        "colab": {
          "base_uri": "https://localhost:8080/",
          "height": 824
        }
      },
      "source": [
        "final_table.head(25) #change the number to see more of the df"
      ],
      "execution_count": 0,
      "outputs": [
        {
          "output_type": "execute_result",
          "data": {
            "text/html": [
              "<div>\n",
              "<style scoped>\n",
              "    .dataframe tbody tr th:only-of-type {\n",
              "        vertical-align: middle;\n",
              "    }\n",
              "\n",
              "    .dataframe tbody tr th {\n",
              "        vertical-align: top;\n",
              "    }\n",
              "\n",
              "    .dataframe thead th {\n",
              "        text-align: right;\n",
              "    }\n",
              "</style>\n",
              "<table border=\"1\" class=\"dataframe\">\n",
              "  <thead>\n",
              "    <tr style=\"text-align: right;\">\n",
              "      <th></th>\n",
              "      <th>Actual Diagnosis</th>\n",
              "      <th>Prediction</th>\n",
              "      <th>Accurate</th>\n",
              "      <th>Gender</th>\n",
              "      <th>baseline</th>\n",
              "      <th>accuracy</th>\n",
              "      <th>kmeans</th>\n",
              "    </tr>\n",
              "  </thead>\n",
              "  <tbody>\n",
              "    <tr>\n",
              "      <th>2</th>\n",
              "      <td>Yes</td>\n",
              "      <td>Yes</td>\n",
              "      <td>Yes</td>\n",
              "      <td>Male</td>\n",
              "      <td>0.857955</td>\n",
              "      <td>0.903409</td>\n",
              "      <td>0.908855</td>\n",
              "    </tr>\n",
              "    <tr>\n",
              "      <th>6</th>\n",
              "      <td>No</td>\n",
              "      <td>No</td>\n",
              "      <td>Yes</td>\n",
              "      <td>Female</td>\n",
              "      <td>0.857955</td>\n",
              "      <td>0.903409</td>\n",
              "      <td>0.908855</td>\n",
              "    </tr>\n",
              "    <tr>\n",
              "      <th>10</th>\n",
              "      <td>Yes</td>\n",
              "      <td>Yes</td>\n",
              "      <td>Yes</td>\n",
              "      <td>Male</td>\n",
              "      <td>0.857955</td>\n",
              "      <td>0.903409</td>\n",
              "      <td>0.908855</td>\n",
              "    </tr>\n",
              "    <tr>\n",
              "      <th>18</th>\n",
              "      <td>No</td>\n",
              "      <td>No</td>\n",
              "      <td>Yes</td>\n",
              "      <td>Female</td>\n",
              "      <td>0.857955</td>\n",
              "      <td>0.903409</td>\n",
              "      <td>0.908855</td>\n",
              "    </tr>\n",
              "    <tr>\n",
              "      <th>24</th>\n",
              "      <td>No</td>\n",
              "      <td>No</td>\n",
              "      <td>Yes</td>\n",
              "      <td>Male</td>\n",
              "      <td>0.857955</td>\n",
              "      <td>0.903409</td>\n",
              "      <td>0.908855</td>\n",
              "    </tr>\n",
              "    <tr>\n",
              "      <th>29</th>\n",
              "      <td>No</td>\n",
              "      <td>No</td>\n",
              "      <td>Yes</td>\n",
              "      <td>Male</td>\n",
              "      <td>0.857955</td>\n",
              "      <td>0.903409</td>\n",
              "      <td>0.908855</td>\n",
              "    </tr>\n",
              "    <tr>\n",
              "      <th>30</th>\n",
              "      <td>No</td>\n",
              "      <td>No</td>\n",
              "      <td>Yes</td>\n",
              "      <td>Male</td>\n",
              "      <td>0.857955</td>\n",
              "      <td>0.903409</td>\n",
              "      <td>0.908855</td>\n",
              "    </tr>\n",
              "    <tr>\n",
              "      <th>31</th>\n",
              "      <td>Yes</td>\n",
              "      <td>Yes</td>\n",
              "      <td>Yes</td>\n",
              "      <td>Female</td>\n",
              "      <td>0.857955</td>\n",
              "      <td>0.903409</td>\n",
              "      <td>0.908855</td>\n",
              "    </tr>\n",
              "    <tr>\n",
              "      <th>39</th>\n",
              "      <td>Yes</td>\n",
              "      <td>Yes</td>\n",
              "      <td>Yes</td>\n",
              "      <td>Female</td>\n",
              "      <td>0.857955</td>\n",
              "      <td>0.903409</td>\n",
              "      <td>0.908855</td>\n",
              "    </tr>\n",
              "    <tr>\n",
              "      <th>41</th>\n",
              "      <td>No</td>\n",
              "      <td>No</td>\n",
              "      <td>Yes</td>\n",
              "      <td>Female</td>\n",
              "      <td>0.857955</td>\n",
              "      <td>0.903409</td>\n",
              "      <td>0.908855</td>\n",
              "    </tr>\n",
              "    <tr>\n",
              "      <th>44</th>\n",
              "      <td>Yes</td>\n",
              "      <td>Yes</td>\n",
              "      <td>Yes</td>\n",
              "      <td>Female</td>\n",
              "      <td>0.857955</td>\n",
              "      <td>0.903409</td>\n",
              "      <td>0.908855</td>\n",
              "    </tr>\n",
              "    <tr>\n",
              "      <th>49</th>\n",
              "      <td>No</td>\n",
              "      <td>No</td>\n",
              "      <td>Yes</td>\n",
              "      <td>Female</td>\n",
              "      <td>0.857955</td>\n",
              "      <td>0.903409</td>\n",
              "      <td>0.908855</td>\n",
              "    </tr>\n",
              "    <tr>\n",
              "      <th>51</th>\n",
              "      <td>Yes</td>\n",
              "      <td>Yes</td>\n",
              "      <td>Yes</td>\n",
              "      <td>Female</td>\n",
              "      <td>0.857955</td>\n",
              "      <td>0.903409</td>\n",
              "      <td>0.908855</td>\n",
              "    </tr>\n",
              "    <tr>\n",
              "      <th>54</th>\n",
              "      <td>Yes</td>\n",
              "      <td>Yes</td>\n",
              "      <td>Yes</td>\n",
              "      <td>Male</td>\n",
              "      <td>0.857955</td>\n",
              "      <td>0.903409</td>\n",
              "      <td>0.908855</td>\n",
              "    </tr>\n",
              "    <tr>\n",
              "      <th>55</th>\n",
              "      <td>Yes</td>\n",
              "      <td>Yes</td>\n",
              "      <td>Yes</td>\n",
              "      <td>Female</td>\n",
              "      <td>0.857955</td>\n",
              "      <td>0.903409</td>\n",
              "      <td>0.908855</td>\n",
              "    </tr>\n",
              "    <tr>\n",
              "      <th>56</th>\n",
              "      <td>Yes</td>\n",
              "      <td>Yes</td>\n",
              "      <td>Yes</td>\n",
              "      <td>Female</td>\n",
              "      <td>0.857955</td>\n",
              "      <td>0.903409</td>\n",
              "      <td>0.908855</td>\n",
              "    </tr>\n",
              "    <tr>\n",
              "      <th>60</th>\n",
              "      <td>Yes</td>\n",
              "      <td>Yes</td>\n",
              "      <td>Yes</td>\n",
              "      <td>Female</td>\n",
              "      <td>0.857955</td>\n",
              "      <td>0.903409</td>\n",
              "      <td>0.908855</td>\n",
              "    </tr>\n",
              "    <tr>\n",
              "      <th>61</th>\n",
              "      <td>Yes</td>\n",
              "      <td>No</td>\n",
              "      <td>No</td>\n",
              "      <td>Female</td>\n",
              "      <td>0.857955</td>\n",
              "      <td>0.903409</td>\n",
              "      <td>0.908855</td>\n",
              "    </tr>\n",
              "    <tr>\n",
              "      <th>64</th>\n",
              "      <td>Yes</td>\n",
              "      <td>Yes</td>\n",
              "      <td>Yes</td>\n",
              "      <td>Female</td>\n",
              "      <td>0.857955</td>\n",
              "      <td>0.903409</td>\n",
              "      <td>0.908855</td>\n",
              "    </tr>\n",
              "    <tr>\n",
              "      <th>66</th>\n",
              "      <td>No</td>\n",
              "      <td>No</td>\n",
              "      <td>Yes</td>\n",
              "      <td>Male</td>\n",
              "      <td>0.857955</td>\n",
              "      <td>0.903409</td>\n",
              "      <td>0.908855</td>\n",
              "    </tr>\n",
              "    <tr>\n",
              "      <th>70</th>\n",
              "      <td>No</td>\n",
              "      <td>No</td>\n",
              "      <td>Yes</td>\n",
              "      <td>Female</td>\n",
              "      <td>0.857955</td>\n",
              "      <td>0.903409</td>\n",
              "      <td>0.908855</td>\n",
              "    </tr>\n",
              "    <tr>\n",
              "      <th>71</th>\n",
              "      <td>No</td>\n",
              "      <td>No</td>\n",
              "      <td>Yes</td>\n",
              "      <td>Male</td>\n",
              "      <td>0.857955</td>\n",
              "      <td>0.903409</td>\n",
              "      <td>0.908855</td>\n",
              "    </tr>\n",
              "    <tr>\n",
              "      <th>73</th>\n",
              "      <td>No</td>\n",
              "      <td>No</td>\n",
              "      <td>Yes</td>\n",
              "      <td>Male</td>\n",
              "      <td>0.857955</td>\n",
              "      <td>0.903409</td>\n",
              "      <td>0.908855</td>\n",
              "    </tr>\n",
              "    <tr>\n",
              "      <th>77</th>\n",
              "      <td>Yes</td>\n",
              "      <td>Yes</td>\n",
              "      <td>Yes</td>\n",
              "      <td>Female</td>\n",
              "      <td>0.857955</td>\n",
              "      <td>0.903409</td>\n",
              "      <td>0.908855</td>\n",
              "    </tr>\n",
              "    <tr>\n",
              "      <th>78</th>\n",
              "      <td>No</td>\n",
              "      <td>No</td>\n",
              "      <td>Yes</td>\n",
              "      <td>Male</td>\n",
              "      <td>0.857955</td>\n",
              "      <td>0.903409</td>\n",
              "      <td>0.908855</td>\n",
              "    </tr>\n",
              "  </tbody>\n",
              "</table>\n",
              "</div>"
            ],
            "text/plain": [
              "   Actual Diagnosis Prediction Accurate  Gender  baseline  accuracy    kmeans\n",
              "2               Yes        Yes      Yes    Male  0.857955  0.903409  0.908855\n",
              "6                No         No      Yes  Female  0.857955  0.903409  0.908855\n",
              "10              Yes        Yes      Yes    Male  0.857955  0.903409  0.908855\n",
              "18               No         No      Yes  Female  0.857955  0.903409  0.908855\n",
              "24               No         No      Yes    Male  0.857955  0.903409  0.908855\n",
              "29               No         No      Yes    Male  0.857955  0.903409  0.908855\n",
              "30               No         No      Yes    Male  0.857955  0.903409  0.908855\n",
              "31              Yes        Yes      Yes  Female  0.857955  0.903409  0.908855\n",
              "39              Yes        Yes      Yes  Female  0.857955  0.903409  0.908855\n",
              "41               No         No      Yes  Female  0.857955  0.903409  0.908855\n",
              "44              Yes        Yes      Yes  Female  0.857955  0.903409  0.908855\n",
              "49               No         No      Yes  Female  0.857955  0.903409  0.908855\n",
              "51              Yes        Yes      Yes  Female  0.857955  0.903409  0.908855\n",
              "54              Yes        Yes      Yes    Male  0.857955  0.903409  0.908855\n",
              "55              Yes        Yes      Yes  Female  0.857955  0.903409  0.908855\n",
              "56              Yes        Yes      Yes  Female  0.857955  0.903409  0.908855\n",
              "60              Yes        Yes      Yes  Female  0.857955  0.903409  0.908855\n",
              "61              Yes         No       No  Female  0.857955  0.903409  0.908855\n",
              "64              Yes        Yes      Yes  Female  0.857955  0.903409  0.908855\n",
              "66               No         No      Yes    Male  0.857955  0.903409  0.908855\n",
              "70               No         No      Yes  Female  0.857955  0.903409  0.908855\n",
              "71               No         No      Yes    Male  0.857955  0.903409  0.908855\n",
              "73               No         No      Yes    Male  0.857955  0.903409  0.908855\n",
              "77              Yes        Yes      Yes  Female  0.857955  0.903409  0.908855\n",
              "78               No         No      Yes    Male  0.857955  0.903409  0.908855"
            ]
          },
          "metadata": {
            "tags": []
          },
          "execution_count": 111
        }
      ]
    },
    {
      "cell_type": "markdown",
      "metadata": {
        "id": "V1E10X7fS-2b",
        "colab_type": "text"
      },
      "source": [
        "As soon as I finished building this dataframe, my immediate thought was \n",
        "*I wonder if theres a difference in the accuracy of the prediction for Male vs. Female!* My hope is the layout of the table will also allow the reader to arrive to the same question themselves."
      ]
    },
    {
      "cell_type": "code",
      "metadata": {
        "id": "NJjhGY4JmfBw",
        "colab_type": "code",
        "outputId": "5dd590d4-3074-4a67-9a0a-d4bd5c197abe",
        "colab": {
          "base_uri": "https://localhost:8080/",
          "height": 34
        }
      },
      "source": [
        "stats.ttest_ind(male_preds['Accurate'], female_preds['Accurate'])"
      ],
      "execution_count": 0,
      "outputs": [
        {
          "output_type": "execute_result",
          "data": {
            "text/plain": [
              "Ttest_indResult(statistic=0.4774177331275378, pvalue=0.6336638285542556)"
            ]
          },
          "metadata": {
            "tags": []
          },
          "execution_count": 108
        }
      ]
    },
    {
      "cell_type": "markdown",
      "metadata": {
        "id": "iWrYR4xdSfDf",
        "colab_type": "text"
      },
      "source": [
        "Based on our findings in our previous [studies](https://medium.com/@shmilyface/comparison-of-symptoms-of-autism-9d965bfefc3f), the data showcased a much lower average of diagnosis in women versus men, despite having similar ratios of screening results. \n",
        "\n",
        "Our theory is that there could be a difference in the accuracy of the model based on gender. \n",
        "\n",
        "The results: \n",
        "\n",
        "####T Statistic 0.47741 \n",
        "####P Value 0.63363\n",
        "\n",
        "These numbers indicate that the results of the accuracy scores of the model in terms of gender, are unbiased. Or, more simply put, even if women are being under-diagnosed for autism, the model will still accurately predict their diagnosis. This means my model is also predicting bias.\n",
        "\n",
        "*My future goal will be removing result totals and creating a model that can predict the gender of the subject, based on the answers to the questions.* \n",
        "\n",
        "\n",
        "\n",
        "---\n",
        "\n",
        "\n"
      ]
    },
    {
      "cell_type": "markdown",
      "metadata": {
        "id": "OhuMXsklRGH3",
        "colab_type": "text"
      },
      "source": [
        "#Conclusion\n",
        "\n",
        "The most interesting discovery for me in this was that my model maintained bias due to the method of prediction. In order to discern the discrepancy between the diagnosis of women with autism and their symptoms, I will be creating a dataset, utilizing several resources. The intention is to reach out to the autism community, and have them answer these questions specifically, as well as an additional set of questions that may help me better pinpoint confounding variables (outside influences I haven't factored in) and adjust to ensure accuracy is fully discernable. \n",
        "\n",
        "I'm also growing much more comfortable with trusting my data. While it would be wild to have an explosive analysis and discovery that showcased clear bias and its impact on female health, I know that the answers I'm finding actually continue to help me better advocate for the autism community. Knowing the common traits that were used to define an individuals diagnosis can help me understand more about what we can find patterns in, and what patterns we need to learn to identify, in order to continue towards a community of support, understanding, and inclusion. \n",
        "\n",
        "I'm excited to continue this as a side project, and while continue to chronicle my journey with this data. "
      ]
    },
    {
      "cell_type": "code",
      "metadata": {
        "id": "B4F7COZEcNm8",
        "colab_type": "code",
        "outputId": "a237bcff-4151-4906-c0fd-511fc6544434",
        "colab": {
          "base_uri": "https://localhost:8080/",
          "height": 323
        }
      },
      "source": [
        "pip install nbconvert"
      ],
      "execution_count": 0,
      "outputs": [
        {
          "output_type": "stream",
          "text": [
            "Requirement already satisfied: nbconvert in /usr/local/lib/python3.6/dist-packages (5.6.0)\n",
            "Requirement already satisfied: defusedxml in /usr/local/lib/python3.6/dist-packages (from nbconvert) (0.6.0)\n",
            "Requirement already satisfied: traitlets>=4.2 in /usr/local/lib/python3.6/dist-packages (from nbconvert) (4.3.2)\n",
            "Requirement already satisfied: jupyter-core in /usr/local/lib/python3.6/dist-packages (from nbconvert) (4.5.0)\n",
            "Requirement already satisfied: mistune<2,>=0.8.1 in /usr/local/lib/python3.6/dist-packages (from nbconvert) (0.8.4)\n",
            "Requirement already satisfied: entrypoints>=0.2.2 in /usr/local/lib/python3.6/dist-packages (from nbconvert) (0.3)\n",
            "Requirement already satisfied: pygments in /usr/local/lib/python3.6/dist-packages (from nbconvert) (2.1.3)\n",
            "Requirement already satisfied: nbformat>=4.4 in /usr/local/lib/python3.6/dist-packages (from nbconvert) (4.4.0)\n",
            "Requirement already satisfied: bleach in /usr/local/lib/python3.6/dist-packages (from nbconvert) (3.1.0)\n",
            "Requirement already satisfied: jinja2>=2.4 in /usr/local/lib/python3.6/dist-packages (from nbconvert) (2.10.1)\n",
            "Requirement already satisfied: testpath in /usr/local/lib/python3.6/dist-packages (from nbconvert) (0.4.2)\n",
            "Requirement already satisfied: pandocfilters>=1.4.1 in /usr/local/lib/python3.6/dist-packages (from nbconvert) (1.4.2)\n",
            "Requirement already satisfied: ipython-genutils in /usr/local/lib/python3.6/dist-packages (from traitlets>=4.2->nbconvert) (0.2.0)\n",
            "Requirement already satisfied: six in /usr/local/lib/python3.6/dist-packages (from traitlets>=4.2->nbconvert) (1.12.0)\n",
            "Requirement already satisfied: decorator in /usr/local/lib/python3.6/dist-packages (from traitlets>=4.2->nbconvert) (4.4.0)\n",
            "Requirement already satisfied: jsonschema!=2.5.0,>=2.4 in /usr/local/lib/python3.6/dist-packages (from nbformat>=4.4->nbconvert) (2.6.0)\n",
            "Requirement already satisfied: webencodings in /usr/local/lib/python3.6/dist-packages (from bleach->nbconvert) (0.5.1)\n",
            "Requirement already satisfied: MarkupSafe>=0.23 in /usr/local/lib/python3.6/dist-packages (from jinja2>=2.4->nbconvert) (1.1.1)\n"
          ],
          "name": "stdout"
        }
      ]
    },
    {
      "cell_type": "code",
      "metadata": {
        "id": "-9izSRArcPvj",
        "colab_type": "code",
        "colab": {}
      },
      "source": [
        "import nbconvert as nb"
      ],
      "execution_count": 0,
      "outputs": []
    },
    {
      "cell_type": "code",
      "metadata": {
        "id": "24xNlaqpc1Pl",
        "colab_type": "code",
        "colab": {
          "base_uri": "https://localhost:8080/",
          "height": 130
        },
        "outputId": "7b68dc19-6ea4-40d4-b171-49816d5c8496"
      },
      "source": [
        "nbconvert --to html Unit2Project.ipynb"
      ],
      "execution_count": 2,
      "outputs": [
        {
          "output_type": "error",
          "ename": "SyntaxError",
          "evalue": "ignored",
          "traceback": [
            "\u001b[0;36m  File \u001b[0;32m\"<ipython-input-2-dc9467b478e7>\"\u001b[0;36m, line \u001b[0;32m1\u001b[0m\n\u001b[0;31m    nbconvert --to html Unit2Project.ipynb\u001b[0m\n\u001b[0m                      ^\u001b[0m\n\u001b[0;31mSyntaxError\u001b[0m\u001b[0;31m:\u001b[0m invalid syntax\n"
          ]
        }
      ]
    },
    {
      "cell_type": "code",
      "metadata": {
        "id": "usTh2QQRdbTe",
        "colab_type": "code",
        "colab": {}
      },
      "source": [
        ""
      ],
      "execution_count": 0,
      "outputs": []
    }
  ]
}